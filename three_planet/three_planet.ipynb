{
 "cells": [
  {
   "cell_type": "code",
   "execution_count": 54,
   "id": "c2acf6e0",
   "metadata": {
    "code_folding": []
   },
   "outputs": [],
   "source": [
    "# import packages\n",
    "import numpy as np\n",
    "from numpy.random import default_rng\n",
    "\n",
    "import matplotlib.pyplot as plt\n",
    "## set default plot size\n",
    "plt.rcParams[\"figure.figsize\"] = (10, 7)\n",
    "## set global font size\n",
    "plt.rcParams.update({'font.size':16})\n",
    "\n",
    "import time\n",
    "import lzma, pickle\n",
    "import scipy.fft as fft\n",
    "import scipy.integrate as integ\n",
    "import scipy.interpolate as interp\n",
    "import scipy.optimize as optimize\n",
    "\n",
    "import astropy.units as u\n",
    "from astropy import constants as const\n",
    "\n",
    "import rebound"
   ]
  },
  {
   "cell_type": "markdown",
   "id": "4b5c8080",
   "metadata": {},
   "source": [
    "# 3-planet system"
   ]
  },
  {
   "cell_type": "markdown",
   "id": "6d5522ab",
   "metadata": {},
   "source": [
    "Our goal is to derive the inclination precession modes for a 3-planet peas-in-a-pod system with two ways:\n",
    "1. Numerical simulation + FFT\n",
    "2. Analytical derivation\n",
    "\n",
    "For a \"more compact\" 3-planet example, one could use the masses ($m$) and semimajor axes ($a$) of the Kepler-60 system (see the links below). Otherwise, these two values can be arbitrary within reason (e.g. slightly larger $a$ ratios).\n",
    "https://aasnova.org/2017/11/20/kepler-planets-tend-to-have-siblings-of-the-same-size/  \n",
    "https://exoplanets.nasa.gov/exoplanet-catalog/369/kepler-60-b/  \n",
    "https://exoplanets.nasa.gov/exoplanet-catalog/370/kepler-60-c/  \n",
    "https://exoplanets.nasa.gov/exoplanet-catalog/371/kepler-60-d/  \n",
    "\n",
    "We initialize the inclinations so that their relative inclinations are modeled with a Rayleigh distribution with scale 1.8. Later, we will reorient the system so that its total angular momentum axis points along the z-axis (thus changing the inclinations to their \"true\" values.)  \n",
    "\n",
    "The values of $e, f,$ and $\\omega,$ are initialized with their default values of 0, while $\\Omega$ is arbitrary."
   ]
  },
  {
   "cell_type": "markdown",
   "id": "2ed699b6",
   "metadata": {},
   "source": [
    "# Rebound simulation "
   ]
  },
  {
   "cell_type": "code",
   "execution_count": 55,
   "id": "df1d6f89",
   "metadata": {},
   "outputs": [
    {
     "name": "stdout",
     "output_type": "stream",
     "text": [
      "b_inc_0_rad = 0.085117750\n",
      "c_inc_0_rad = 0.045047503\n",
      "d_inc_0_rad = 0.008071458\n"
     ]
    }
   ],
   "source": [
    "# initialize inclinations (this is *not* in the L_tot frame)\n",
    "rng = default_rng()\n",
    "inc_scale = 1.8 * np.pi / 180 # inclination scale in radians\n",
    "\n",
    "## randomly-generated values\n",
    "# b_inc_0_rad = rng.rayleigh(scale=inc_scale)\n",
    "# c_inc_0_rad = rng.rayleigh(scale=inc_scale)\n",
    "# d_inc_0_rad = rng.rayleigh(scale=inc_scale)\n",
    "\n",
    "## hard-coded values\n",
    "b_inc_0_rad = 0.085117750\n",
    "c_inc_0_rad = 0.045047503\n",
    "d_inc_0_rad = 0.008071458\n",
    "print(f'b_inc_0_rad = %.9f' % b_inc_0_rad)\n",
    "print(f'c_inc_0_rad = %.9f' % c_inc_0_rad)\n",
    "print(f'd_inc_0_rad = %.9f' % d_inc_0_rad)"
   ]
  },
  {
   "cell_type": "markdown",
   "id": "17fd79b0",
   "metadata": {},
   "source": [
    "We vary the value of $\\alpha \\equiv a_j / a_{j+1}$; i.e., the semimajor axis ratio of adjacent planets. We sweep from $\\alpha = 1/1.3$ through $\\alpha = 1/2$."
   ]
  },
  {
   "cell_type": "code",
   "execution_count": 56,
   "id": "043a8311",
   "metadata": {
    "code_folding": []
   },
   "outputs": [],
   "source": [
    "sim = rebound.Simulation()\n",
    "sim.units = ('yr', 'AU', 'Msun')\n",
    "\n",
    "M_e = 3.00273e-6 # Earth mass in Msun\n",
    "star_mass = 1.0\n",
    "\n",
    "# set semimajor axis ratio of adjacent planets\n",
    "alpha = 1 / 1.3\n",
    "\n",
    "# Each planet has 4 provided params: mass (m) in Earth masses, semimajor axis (a), \n",
    "# inclination (inc), and Omega. The three omitted orbital params (e, f, omega) \n",
    "# are left at their default values of 0.\n",
    "b_params = {\n",
    "    \"m\": 4.19 * M_e, \n",
    "    \"a\": 1, \n",
    "    \"inc\": b_inc_0_rad,\n",
    "    \"Omega\": 5.3\n",
    "}\n",
    "\n",
    "c_params = {\n",
    "    \"m\": 3.85 * M_e, \n",
    "    \"a\": b_params['a'] / alpha,\n",
    "    \"inc\": c_inc_0_rad,\n",
    "    \"Omega\": 2.3\n",
    "}\n",
    "\n",
    "d_params = {\n",
    "    \"m\": 4.16 * M_e, \n",
    "    \"a\": c_params['a'] / alpha,\n",
    "    \"inc\": d_inc_0_rad,\n",
    "    \"Omega\": 0.8\n",
    "}\n",
    "\n",
    "sim.add(m=star_mass)\n",
    "sim.add(m=b_params['m'], a=b_params['a'], inc=b_params['inc'], Omega=b_params['Omega'])\n",
    "sim.add(m=c_params['m'], a=c_params['a'], inc=c_params['inc'], Omega=c_params['Omega'])\n",
    "sim.add(m=d_params['m'], a=d_params['a'], inc=d_params['inc'], Omega=d_params['Omega'])\n",
    "\n",
    "# Rotate the axes so that z points along the total angular momentum.\n",
    "rot = rebound.Rotation.to_new_axes(newz=sim.angular_momentum())\n",
    "sim.rotate(rot)"
   ]
  },
  {
   "cell_type": "code",
   "execution_count": 57,
   "id": "4a1502aa",
   "metadata": {},
   "outputs": [
    {
     "data": {
      "image/png": "[encoded data removed]",
      "text/plain": [
       "<Figure size 360x576 with 3 Axes>"
      ]
     },
     "metadata": {
      "needs_background": "light"
     },
     "output_type": "display_data"
    }
   ],
   "source": [
    "# visualize system before rotation\n",
    "op_set = rebound.OrbitPlotSet(sim)"
   ]
  },
  {
   "cell_type": "code",
   "execution_count": 58,
   "id": "67690e40",
   "metadata": {
    "scrolled": false
   },
   "outputs": [
    {
     "name": "stdout",
     "output_type": "stream",
     "text": [
      "Planet B's inc (L_tot frame) = 0.074293253\n",
      "Planet C's inc (L_tot frame) = 0.055922535\n",
      "Planet D's inc (L_tot frame) = 0.014274379\n"
     ]
    }
   ],
   "source": [
    "## check the particles' inclinations after the frame shift\n",
    "print(f\"Planet B's inc (L_tot frame) = %.9f\" % sim.particles[1].inc)\n",
    "print(f\"Planet C's inc (L_tot frame) = %.9f\" % sim.particles[2].inc)\n",
    "print(f\"Planet D's inc (L_tot frame) = %.9f\" % sim.particles[3].inc)"
   ]
  },
  {
   "cell_type": "markdown",
   "id": "627095c0",
   "metadata": {},
   "source": [
    "# Method 1: Analytical derivation of mode freqs and amps"
   ]
  },
  {
   "cell_type": "code",
   "execution_count": 59,
   "id": "7fcc7ed0",
   "metadata": {
    "code_folding": [
     0,
     19,
     34
    ]
   },
   "outputs": [],
   "source": [
    "def laplace_coeff_integrand(x, alpha):\n",
    "    '''\n",
    "    \n",
    "    This function represents the integrand of the Laplace coefficient formula\n",
    "    (Eq. 6.67 of Murray & Dermott). Following Eq. A3 in Su & Lai 2022, we\n",
    "    use j=1 and s=3/2. The result is used in the laplace_coeff function.\n",
    "    \n",
    "    PARAMETERS\n",
    "    ----------\n",
    "    x: argument of the function\n",
    "    alpha: variable that isn't integrated over\n",
    "    \n",
    "    '''\n",
    "    \n",
    "    num = np.cos(x) # numerator\n",
    "    denom = (1 - 2 * alpha * np.cos(x) + alpha**2) ** (3/2)\n",
    "    \n",
    "    return num / denom\n",
    "\n",
    "def laplace_coeff(alpha):\n",
    "    '''\n",
    "    \n",
    "    Calculate the Laplace coefficient using Eq. 6.67 of Murray & Dermott.\n",
    "    (This is the exact form of Eq. A3 in Su & Lai 2022.) The result is used \n",
    "    in mode_freq (and is denoted as \"b\").\n",
    "    \n",
    "    PARAMETERS\n",
    "    ----------\n",
    "    alpha: input to the formula.\n",
    "    \n",
    "    '''\n",
    "    \n",
    "    return 1 / np.pi * integ.quad(laplace_coeff_integrand, 0, 2*np.pi, args=(alpha))[0]\n",
    "    \n",
    "def mode_freq(a_j, a_k, m_k, M_star):\n",
    "    \n",
    "    '''\n",
    "    \n",
    "    Calculate the precession rate (w_jk) of the j-th planet \n",
    "    induced by the k-th planet.\n",
    "    \n",
    "    PARAMETERS\n",
    "    ----------\n",
    "    a_j, a_k: semimajor axes of planets j and k, respectively; assumes that\n",
    "    parameters are provided with units (e.g., u.au or u.m)\n",
    "    m_k, M_star: masses of planet k and the central star, respectively; assumes\n",
    "    that parameters are provided with units (e.g., u.kg or u.M_sun)\n",
    "    \n",
    "    '''\n",
    "    # np.min, max don't work with astropy quantities\n",
    "    a_min, a_max = a_j, a_k\n",
    "    if (a_k < a_j):\n",
    "        a_min = a_k\n",
    "        a_max = a_j\n",
    "        \n",
    "    n_j = np.sqrt(const.G * M_star / (a_j**3))\n",
    "    alpha = a_min / a_max\n",
    "    b = laplace_coeff(alpha)\n",
    "    \n",
    "    return m_k / (4 * M_star) * \\\n",
    "            (a_j * a_min) / (a_max**2) * \\\n",
    "            n_j * b"
   ]
  },
  {
   "cell_type": "code",
   "execution_count": 60,
   "id": "87be3ebf",
   "metadata": {},
   "outputs": [],
   "source": [
    "a_b = sim.particles[1].a * u.au\n",
    "a_c = sim.particles[2].a * u.au\n",
    "a_d = sim.particles[3].a * u.au\n",
    "\n",
    "M_star = sim.particles[0].m * u.M_sun\n",
    "m_b = sim.particles[1].m * u.M_sun\n",
    "m_c = sim.particles[2].m * u.M_sun\n",
    "m_d = sim.particles[3].m * u.M_sun\n",
    "\n",
    "planet_inds = ['b', 'c', 'd']\n",
    "\n",
    "# calculate omega_jk values in yr^-1 (but without the unit)\n",
    "# format: omega_jk = mode_freq(a_j, a_k, m_k, M_star).to(u.yr**-1).value\n",
    "for j in planet_inds:\n",
    "    for k in planet_inds:\n",
    "        if (j == k): continue\n",
    "        exec('omega_' + j + k + ' = ' + \\\n",
    "             'mode_freq(a_' + j + ', a_' + k +', m_' + k +', M_star).to(u.yr**-1).value')"
   ]
  },
  {
   "cell_type": "markdown",
   "id": "d9cda68f",
   "metadata": {},
   "source": [
    "The below cell gets the eigenvalues of the matrix in Eq. A1 of Su & Lai 2022."
   ]
  },
  {
   "cell_type": "code",
   "execution_count": 61,
   "id": "d079bee5",
   "metadata": {},
   "outputs": [],
   "source": [
    "mat = np.array([\n",
    "    [-omega_bc - omega_bd, omega_bc, omega_bd],\n",
    "    [omega_cb, -omega_cb - omega_cd, omega_cd],\n",
    "    [omega_db, omega_dc, -omega_db - omega_dc]\n",
    "])\n",
    "\n",
    "eigs, eigvs = np.linalg.eig(mat)\n",
    "prec_freqs = eigs[np.where(np.abs(eigs) > 1e-10)]\n",
    "prec_eigvs = eigvs[:, np.where(np.abs(eigs) > 1e-10)]\n",
    "prec_eigvs = np.squeeze(prec_eigvs).T # reshape to (2,3), ie each row is an eigv\n",
    "zero_mode_ind = np.where(np.abs(eigs) < 1e-10)[0] # index of mode w/ frequency=0\n",
    "\n",
    "g_1, g_2 = -prec_freqs"
   ]
  },
  {
   "cell_type": "code",
   "execution_count": 62,
   "id": "4ded7d58",
   "metadata": {
    "scrolled": false
   },
   "outputs": [
    {
     "name": "stdout",
     "output_type": "stream",
     "text": [
      "Period 1: 18029.652 years\n",
      "Period 2: 42395.273 years\n",
      "Non-zero mode frequencies: [0.00034849 0.0001482 ]\n"
     ]
    }
   ],
   "source": [
    "print(f'Period 1: {np.round(2 * np.pi / g_1, 3)} years')\n",
    "print(f'Period 2: {np.round(2 * np.pi / g_2, 3)} years')\n",
    "print(f'Non-zero mode frequencies: {-prec_freqs}')"
   ]
  },
  {
   "cell_type": "code",
   "execution_count": 63,
   "id": "89343212",
   "metadata": {
    "scrolled": true
   },
   "outputs": [
    {
     "name": "stdout",
     "output_type": "stream",
     "text": [
      "Matrix \"divided\" by eigenvector 1: [-0.00034849 -0.00034849 -0.00034849]\n",
      "Matrix \"divided\" by eigenvector 2: [-0.0001482 -0.0001482 -0.0001482]\n",
      "Eigenvalues: [-3.48491762e-04 -1.48204856e-04  1.38023295e-20]\n"
     ]
    }
   ],
   "source": [
    "# check that eigenvalues and eigenvectors match\n",
    "print(f\"Matrix \\\"divided\\\" by eigenvector 1: {np.matmul(mat, prec_eigvs[0]) / prec_eigvs[0]}\")\n",
    "print(f\"Matrix \\\"divided\\\" by eigenvector 2: {np.matmul(mat, prec_eigvs[1]) / prec_eigvs[1]}\")\n",
    "print(f'Eigenvalues: {eigs}')"
   ]
  },
  {
   "cell_type": "markdown",
   "id": "fa17f34d",
   "metadata": {},
   "source": [
    "## Analytical mode amplitudes"
   ]
  },
  {
   "cell_type": "markdown",
   "id": "3d22a1ec",
   "metadata": {},
   "source": [
    "(taken from two_planet notebook; need to copy-paste equations here + haven't double-checked them so the result may be wrong)"
   ]
  },
  {
   "cell_type": "code",
   "execution_count": 64,
   "id": "20aa070c",
   "metadata": {
    "code_folding": [
     0
    ]
   },
   "outputs": [],
   "source": [
    "def get_mode_amps(complex_inc_0, eigvs, zero_mode_ind):\n",
    "    '''\n",
    "    Given the initial complex inclination vector inc_0 and the set of \n",
    "    eigenvectors (eigvs) for a system, compute the mode amplitudes \n",
    "    (which are the projections of inc_0 onto the eigenvectors). NOTE: In the below\n",
    "    calculation, the eigenvector with eigenvalue 0 is set to the zero vector.\n",
    "    (The index of this eigenvector is given by zero_mode_ind.)\n",
    "    \n",
    "    Let n be the number of planets. inc_0 has shape (n,), and eigvs has shape\n",
    "    (n, n), where the columns (i.e. eigvs[:,i]) are the eigenvectors. The output \n",
    "    will have shape (n, n), and the ith column corresponds to mode amplitude i.\n",
    "    (The column at A_vecs[:,zero_mod_ind] will be the zero vector.)\n",
    "    \n",
    "    \n",
    "    '''\n",
    "    \n",
    "    n = len(complex_inc_0)\n",
    "    complex_inc_0 = np.expand_dims(complex_inc_0, axis=1) # change shape to (n, 1)\n",
    "    eigvs[:,zero_mode_ind] = np.zeros((n, 1))\n",
    "    \n",
    "    scalars = np.matmul(np.conj(complex_inc_0.T), eigvs) # complex inner product \n",
    "    diag_mat = np.zeros((n,n), dtype=complex)\n",
    "    np.fill_diagonal(diag_mat, scalars)\n",
    "    A_vecs = 1j * np.matmul(eigvs, diag_mat)\n",
    "    \n",
    "    print(f'complex_inc_0.T: {complex_inc_0}')\n",
    "    print(f'scalars: {scalars}')\n",
    "    print(f'diag_mat: {diag_mat}')\n",
    "    \n",
    "    return A_vecs"
   ]
  },
  {
   "cell_type": "code",
   "execution_count": 65,
   "id": "eb914fee",
   "metadata": {},
   "outputs": [
    {
     "name": "stdout",
     "output_type": "stream",
     "text": [
      "complex_inc_0.T: [[ 4.23020638-0.47409092j]\n",
      " [-3.20209436-0.11406278j]\n",
      " [-0.67663436+0.45941669j]]\n",
      "scalars: [[-4.78966189-0.0766252j   2.62672422+0.66864674j  0.        +0.j        ]]\n",
      "diag_mat: [[-4.78966189-0.0766252j   0.        +0.j          0.        +0.j        ]\n",
      " [ 0.        +0.j          2.62672422+0.66864674j  0.        +0.j        ]\n",
      " [ 0.        +0.j          0.        +0.j          0.        +0.j        ]]\n",
      "Mode amplitudes:\n",
      "[[-0.04301256+2.68861432j -0.45190225+1.77526117j  0.        +0.j        ]\n",
      " [ 0.06125737-3.8290547j  -0.14783805+0.58076971j  0.        +0.j        ]\n",
      " [-0.01639744+1.02496546j  0.47012416-1.84684445j  0.        +0.j        ]]\n",
      "Magnitudes of mode amplitudes:\n",
      "[[2.68895835 1.8318755  0.        ]\n",
      " [3.82954467 0.59929087 0.        ]\n",
      " [1.02509661 1.90574163 0.        ]]\n"
     ]
    }
   ],
   "source": [
    "# initial values for complex inc (rad)\n",
    "b_complex_inc0 = sim.particles[1].inc * np.exp(1j * sim.particles[1].Omega)\n",
    "c_complex_inc0 = sim.particles[2].inc * np.exp(1j * sim.particles[2].Omega)\n",
    "d_complex_inc0 = sim.particles[3].inc * np.exp(1j * sim.particles[3].Omega)\n",
    "\n",
    "# convert complex incs to degrees\n",
    "b_complex_inc0_deg = b_complex_inc0 * 180 / np.pi \n",
    "c_complex_inc0_deg = c_complex_inc0 * 180 / np.pi \n",
    "d_complex_inc0_deg = d_complex_inc0 * 180 / np.pi \n",
    "\n",
    "inc_0_temp = np.asarray([b_complex_inc0_deg, c_complex_inc0_deg, d_complex_inc0_deg])\n",
    "mode_amps = get_mode_amps(inc_0_temp, eigvs, zero_mode_ind)\n",
    "print('Mode amplitudes:')\n",
    "print(mode_amps)\n",
    "print('Magnitudes of mode amplitudes:')\n",
    "print(np.abs(mode_amps))"
   ]
  },
  {
   "cell_type": "markdown",
   "id": "a86166af",
   "metadata": {},
   "source": [
    "# Method 2: Numerical derivation of mode freqs and amps"
   ]
  },
  {
   "cell_type": "markdown",
   "id": "9f785cd1",
   "metadata": {},
   "source": [
    "## Run sim"
   ]
  },
  {
   "cell_type": "code",
   "execution_count": null,
   "id": "2428b7f0",
   "metadata": {},
   "outputs": [],
   "source": [
    "tstep = 1\n",
    "tmax = 2**21 # end time of integration (yr)\n",
    "num_steps = int(tmax / tstep)\n",
    "N = num_steps\n",
    "N_div_100 = int(N / 100)"
   ]
  },
  {
   "cell_type": "code",
   "execution_count": null,
   "id": "eadf0ec1",
   "metadata": {
    "code_folding": [
     0
    ],
    "scrolled": true
   },
   "outputs": [],
   "source": [
    "## run simulation\n",
    "\n",
    "## initialize storage arrays\n",
    "b_incs_rad = np.asarray([0.] * num_steps) # inclination of Planet B over the simulation\n",
    "c_incs_rad = np.asarray([0.] * num_steps) # inclination of Planet C over the simulation\n",
    "d_incs_rad = np.asarray([0.] * num_steps) # inclination of Planet D over the simulation\n",
    "\n",
    "b_complex_incs_rad = np.asarray([0. + 0.j] * num_steps) # complex inc (radians) of Planet B over the sim\n",
    "c_complex_incs_rad = np.asarray([0. + 0.j] * num_steps) # complex inc (radians) of Planet C over the sim\n",
    "d_complex_incs_rad = np.asarray([0. + 0.j] * num_steps) # complex inc (radians) of Planet D over the sim\n",
    "\n",
    "b_as = np.asarray([0.] * num_steps) # semimajor axis of Planet B over the simulation\n",
    "c_as = np.asarray([0.] * num_steps) # a of Planet C over the simulation\n",
    "d_as = np.asarray([0.] * num_steps) # a of Planet D over the simulation\n",
    "\n",
    "b_es = np.asarray([0.] * num_steps) # eccentricity of Planet B over the simulation\n",
    "c_es = np.asarray([0.] * num_steps) # e of Planet C over the simulation\n",
    "d_es = np.asarray([0.] * num_steps) # e of Planet D over the simulation\n",
    "\n",
    "times = np.linspace(0, tmax, num_steps)\n",
    "\n",
    "start = time.time()\n",
    "for i, t in enumerate(times):\n",
    "    # update inclination arrays\n",
    "    inc_b = sim.particles[1].inc\n",
    "    inc_c = sim.particles[2].inc\n",
    "    inc_d = sim.particles[3].inc\n",
    "    b_incs_rad[i] = inc_b\n",
    "    c_incs_rad[i] = inc_c\n",
    "    d_incs_rad[i] = inc_d\n",
    "    \n",
    "    # update complex inclination arrays\n",
    "    Omega_i_b = sim.particles[1].Omega\n",
    "    Omega_i_c = sim.particles[2].Omega\n",
    "    Omega_i_d = sim.particles[3].Omega\n",
    "    b_complex_incs_rad[i] = inc_b * np.exp(1j * Omega_i_b)\n",
    "    c_complex_incs_rad[i] = inc_c * np.exp(1j * Omega_i_c)\n",
    "    d_complex_incs_rad[i] = inc_d * np.exp(1j * Omega_i_d)\n",
    "    \n",
    "    # update semimajor axis arrays\n",
    "    b_as[i] = sim.particles[1].a\n",
    "    c_as[i] = sim.particles[2].a\n",
    "    d_as[i] = sim.particles[3].a\n",
    "    \n",
    "    # update eccentricity arrays\n",
    "    b_es[i] = sim.particles[1].e\n",
    "    c_es[i] = sim.particles[2].e\n",
    "    d_es[i] = sim.particles[3].e\n",
    "    \n",
    "    # move forward by one timestep\n",
    "    sim.integrate(t)\n",
    "    \n",
    "    # prints sim progress as a percentage\n",
    "    if (i % N_div_100 == 0):\n",
    "        pct_done = i / N_div_100\n",
    "        if (pct_done % 10 == 0):\n",
    "            print(f'{i/N_div_100}% done')\n",
    "\n",
    "print(f'Integration took {np.round(time.time() - start, 1)} seconds')"
   ]
  },
  {
   "cell_type": "code",
   "execution_count": null,
   "id": "c9bc0af1",
   "metadata": {
    "scrolled": true
   },
   "outputs": [],
   "source": [
    "# visualize system after integration\n",
    "op_set = rebound.OrbitPlotSet(sim)"
   ]
  },
  {
   "cell_type": "markdown",
   "id": "70fc1fdb",
   "metadata": {},
   "source": [
    "## Plot simulation results"
   ]
  },
  {
   "cell_type": "code",
   "execution_count": null,
   "id": "93de1588",
   "metadata": {},
   "outputs": [],
   "source": [
    "# relative change in semimajor axis (percent)\n",
    "print((b_as[0] - b_as[-1]) / b_as[0] * 100)\n",
    "print((c_as[0] - c_as[-1]) / c_as[0] * 100)\n",
    "print((d_as[0] - d_as[-1]) / d_as[0] * 100)"
   ]
  },
  {
   "cell_type": "code",
   "execution_count": null,
   "id": "a8b01350",
   "metadata": {},
   "outputs": [],
   "source": [
    "# check that semimajor axes/eccentricities aren't wandering\n",
    "fig = plt.figure(figsize=(12,5))\n",
    "\n",
    "plt.plot(times, b_as, label='Planet B')\n",
    "plt.plot(times, c_as, label='Planet C')\n",
    "plt.plot(times, d_as, label='Planet D')\n",
    "\n",
    "plt.xlabel('Time (yr)')\n",
    "plt.ylabel('a (AU)')\n",
    "\n",
    "plt.title('Semimajor axis (a) vs. time')\n",
    "plt.legend(loc='lower right')\n",
    "plt.show()\n",
    "\n",
    "\n",
    "print(f'Max Planet B eccentricity: {max(b_es)}')\n",
    "print(f'Max Planet C eccentricity: {max(c_es)}')\n",
    "print(f'Max Planet D eccentricity: {max(d_es)}')\n",
    "\n",
    "# fig = plt.figure(figsize=(16,3))\n",
    "# plt.plot(times, b_es, lw=1, label='Planet B')\n",
    "# plt.plot(times, c_es, lw=1, label='Planet C')\n",
    "# plt.plot(times, d_es, lw=1, label='Planet D')\n",
    "\n",
    "# plt.xlabel('Time (yr)')\n",
    "# plt.ylabel('Eccentricity (e)')\n",
    "\n",
    "# plt.title('Eccentricity (e) vs. time')\n",
    "# plt.legend(loc='lower right')\n",
    "# plt.show()"
   ]
  },
  {
   "cell_type": "code",
   "execution_count": null,
   "id": "9a02cb2d",
   "metadata": {},
   "outputs": [],
   "source": [
    "# convert inclinations from radians to degrees\n",
    "b_incs_deg = b_incs_rad * (180 / np.pi)\n",
    "c_incs_deg = c_incs_rad * (180 / np.pi)\n",
    "d_incs_deg = d_incs_rad * (180 / np.pi)\n",
    "b_complex_incs_deg = b_complex_incs_rad * (180 / np.pi)\n",
    "c_complex_incs_deg = c_complex_incs_rad * (180 / np.pi)\n",
    "d_complex_incs_deg = d_complex_incs_rad * (180 / np.pi)\n",
    "\n",
    "# save data\n",
    "file_path = f'cmplx_incs_alpha=%.3f_t=%.1E_yrs.pkl' % (alpha, tmax)\n",
    "with lzma.open(file_path, 'wb') as f:\n",
    "    pickle.dump((times, b_complex_incs_deg, c_complex_incs_deg, d_complex_incs_deg), f)"
   ]
  },
  {
   "cell_type": "code",
   "execution_count": null,
   "id": "c438bae2",
   "metadata": {
    "code_folding": [
     2
    ]
   },
   "outputs": [],
   "source": [
    "load_data = False\n",
    "\n",
    "if load_data:    \n",
    "    file_path = f'cmplx_incs_alpha=%.3f_t=%.1E_yrs.pkl' % (alpha, tmax)\n",
    "\n",
    "    ## open old data files\n",
    "    with lzma.open(file_path, 'rb') as f:\n",
    "        times, b_complex_incs_deg, c_complex_incs_deg, d_complex_incs_deg = pickle.load(f)"
   ]
  },
  {
   "cell_type": "code",
   "execution_count": null,
   "id": "2681add6",
   "metadata": {
    "code_folding": [
     0
    ],
    "scrolled": false
   },
   "outputs": [],
   "source": [
    "## Plot physical inclinations\n",
    "# b_incs_deg = np.abs(b_complex_incs_deg)\n",
    "# c_incs_deg = np.abs(c_complex_incs_deg)\n",
    "# d_incs_deg = np.abs(d_complex_incs_deg)\n",
    "\n",
    "# fig = plt.figure(figsize=(14,5))\n",
    "\n",
    "# plt.plot(times, b_incs_deg, label='Planet B')\n",
    "# plt.plot(times, c_incs_deg, label='Planet C')\n",
    "# plt.plot(times, d_incs_deg, label='Planet D')\n",
    "\n",
    "# plt.xlabel('Time (yr)')\n",
    "# plt.ylabel('Inclination')\n",
    "# plt.title('Physical inclination')\n",
    "\n",
    "# plt.legend(loc='lower right')\n",
    "# plt.show()"
   ]
  },
  {
   "cell_type": "code",
   "execution_count": null,
   "id": "9fe4660c",
   "metadata": {},
   "outputs": [],
   "source": [
    "fig = plt.figure(figsize=(14,5))\n",
    "\n",
    "xlim = tmax\n",
    "\n",
    "plt.plot(times, b_complex_incs_deg.real, lw=1, label='Planet B')\n",
    "plt.plot(times, c_complex_incs_deg.real, lw=1, label='Planet C')\n",
    "plt.plot(times, d_complex_incs_deg.real, lw=1, label='Planet D')\n",
    "\n",
    "plt.xlabel('Time (yr)')\n",
    "plt.xlim(0, xlim)\n",
    "plt.ylabel('Inclination (deg)')\n",
    "plt.title(f'Real component of inclination (t < {xlim} years)')\n",
    "\n",
    "plt.legend(loc='lower right')\n",
    "plt.show()"
   ]
  },
  {
   "cell_type": "code",
   "execution_count": null,
   "id": "582905ac",
   "metadata": {},
   "outputs": [],
   "source": [
    "# temp_range = slice(0, 500)\n",
    "\n",
    "# plt.figure(figsize=(4,4))\n",
    "\n",
    "# plt.scatter(b_complex_incs_deg.real[temp_range], \\\n",
    "#             b_complex_incs_deg.imag[temp_range], s=4, label='b')\n",
    "# plt.scatter(c_complex_incs_deg.real[temp_range], \\\n",
    "#             c_complex_incs_deg.imag[temp_range], s=4, label='c')\n",
    "# plt.scatter(d_complex_incs_deg.real[temp_range], \\\n",
    "#             d_complex_incs_deg.imag[temp_range], s=4, label='d')\n",
    "\n",
    "# plt.xlabel('real')\n",
    "# plt.ylabel('imag')\n",
    "# plt.title('Complex Incs in Complex Plane')\n",
    "# plt.legend(loc='upper right')\n",
    "# plt.show()"
   ]
  },
  {
   "cell_type": "markdown",
   "id": "4f8feb51",
   "metadata": {},
   "source": [
    "## Run FFT (and interpolation)"
   ]
  },
  {
   "cell_type": "code",
   "execution_count": null,
   "id": "bc5441d7",
   "metadata": {
    "code_folding": [
     1,
     17
    ]
   },
   "outputs": [],
   "source": [
    "## run FFT\n",
    "def quad_fn(coeffs, x):\n",
    "    '''\n",
    "    Given the coefficients of a quadratic polynomial f(x), return f(x).\n",
    "    \n",
    "    PARAMETERS\n",
    "    ----------\n",
    "    coeffs: 3-element list containing the quadratic's coefficients, \n",
    "    highest power first.\n",
    "    x: the value at which to evaluate f(x).\n",
    "    \n",
    "    '''\n",
    "    \n",
    "    a, b, c = coeffs\n",
    "    \n",
    "    return a * x**2 + b * x + c\n",
    "\n",
    "def FFT_freq_amp(incs, planet_name, quad_interp=False):\n",
    "    '''\n",
    "    Given a time series (incs) representing either component of complex inclination, \n",
    "    return the mode frequencies and amplitudes of the time series. \n",
    "    (Might include an option to apply quadratic interpolation around the FFT's peaks.)\n",
    "    \n",
    "    NOTE: This implementation is for 3 planets.\n",
    "        \n",
    "    ARGUMENTS\n",
    "    ---------\n",
    "    incs: time series of either the real or imag component of a complex inclination series\n",
    "    planet_name: string representing planet name (used in plots)\n",
    "    quad_interp: if True, uses quadratic interpolation to improve the result\n",
    "    of low-resolution FFTs; default is False\n",
    "    \n",
    "    '''\n",
    "    \n",
    "    # only look at the positive side of the FFT\n",
    "    yf = np.abs(fft.fft(incs - np.mean(incs))[:N//2])\n",
    "    yf_scaled = 2 / num_steps * np.abs(yf)\n",
    "    xf = fft.fftfreq(num_steps, tstep)[:N//2]\n",
    "    \n",
    "    # plot FFT result\n",
    "    plt.figure(figsize=(10,4))\n",
    "    plt.plot(xf, yf_scaled)\n",
    "    plt.xlim(0, 1e-5)\n",
    "    plt.title('FT for ' + planet_name)\n",
    "    plt.show()\n",
    "    \n",
    "    # get locations of the FFT's two peaks\n",
    "    sorted_ind_arr = np.argsort(-yf_scaled) # indices to sort yf_scaled in decreasing order\n",
    "    mode_amp1 = yf_scaled[sorted_ind_arr[0]]\n",
    "    mode_amp2 = yf_scaled[sorted_ind_arr[1]]\n",
    "    mode_freq1 = xf[sorted_ind_arr[0]]\n",
    "    mode_freq2 = xf[sorted_ind_arr[1]]\n",
    "    \n",
    "    # run quadratic interpolation on the FFT\n",
    "    if quad_interp:\n",
    "        raise RuntimeError(\"Error: haven't implemented \")\n",
    "#         x_vals = [xf[np.argmax(yf) - 1], xf[np.argmax(yf)], xf[np.argmax(yf) + 1]]\n",
    "#         y_vals = np.abs([yf[np.argmax(yf) - 1], yf[np.argmax(yf)], yf[np.argmax(yf) + 1]])\n",
    "#         y_vals_scaled = 2 / num_steps * np.abs(y_vals)\n",
    "\n",
    "#         # get coefficients of the interpolated quadratic function\n",
    "#         coeffs = np.polyfit(x_vals, y_vals_scaled, deg=2)\n",
    "#         a, b, c = coeffs\n",
    "\n",
    "#         # get mode freq and amplitude\n",
    "#         mode_f = - b / (2*a) # peak of the quadratic function\n",
    "#         mode_amp = quad_fn(coeffs, mode_f)\n",
    "\n",
    "#         # return period (years) and amplitude\n",
    "#         return mode_f, mode_amp\n",
    "\n",
    "    # (result from no quadratic interpolation)\n",
    "    # return freq (years^-1) and amplitude (degrees)\n",
    "    return [mode_freq1, mode_freq2], [mode_amp1, mode_amp2]\n",
    "\n",
    "b_series = b_complex_incs_deg.real\n",
    "c_series = c_complex_incs_deg.real\n",
    "d_series = d_complex_incs_deg.real\n",
    "\n",
    "use_interp = False\n",
    "\n",
    "b_freqs = np.zeros([2])\n",
    "b_amps = np.zeros([2])\n",
    "b_freqs, b_amps = FFT_freq_amp(b_series, 'Planet B', quad_interp=use_interp)\n",
    "b_periods = [1/freq for freq in b_freqs] # years\n",
    "\n",
    "c_freqs = np.zeros([2])\n",
    "c_amps = np.zeros([2])\n",
    "c_freqs, c_amps = FFT_freq_amp(c_series, 'Planet C', quad_interp=use_interp)\n",
    "c_periods = [1/freq for freq in c_freqs] # years\n",
    "\n",
    "d_freqs = np.zeros([2])\n",
    "d_amps = np.zeros([2])\n",
    "d_freqs, d_amps = FFT_freq_amp(d_series, 'Planet D', quad_interp=use_interp)\n",
    "d_periods = [1/freq for freq in d_freqs] # years\n",
    "\n",
    "if use_interp:\n",
    "    print('WITH QUADRATIC INTERPOLATION:')\n",
    "print(f'Planet B freqs (yr^-1): ', np.round(b_freqs,7))\n",
    "print(f'Planet B periods (yr): ', np.round(b_periods,3))\n",
    "print(f'Planet B amplitudes (deg): ', np.round(b_amps,6))\n",
    "print()\n",
    "print(f'Planet C freqs (yr^-1): ', np.round(c_freqs,7))\n",
    "print(f'Planet C periods (yr): ', np.round(c_periods,3))\n",
    "print(f'Planet C amplitudes (deg): ', np.round(c_amps,6))\n",
    "print()\n",
    "print(f'Planet D freqs (yr^-1): ', np.round(d_freqs,7))\n",
    "print(f'Planet D periods (yr): ', np.round(d_periods,3))\n",
    "print(f'Planet D amplitudes (deg): ', np.round(d_amps,6))"
   ]
  },
  {
   "cell_type": "markdown",
   "id": "1e473bee",
   "metadata": {},
   "source": [
    "### Write down mode amplitude vectors"
   ]
  },
  {
   "cell_type": "markdown",
   "id": "a8bf9f1d",
   "metadata": {},
   "source": [
    "NOTE: I'm determining the mode frequencies by eye."
   ]
  },
  {
   "cell_type": "code",
   "execution_count": null,
   "id": "864bc5c5",
   "metadata": {},
   "outputs": [],
   "source": [
    "b_fft = 2 / num_steps * np.abs(fft.fft(b_complex_incs_deg.real))\n",
    "b_fft = b_fft[:N//2]\n",
    "c_fft = 2 / num_steps * np.abs(fft.fft(c_complex_incs_deg.real))\n",
    "c_fft = c_fft[:N//2]\n",
    "d_fft = 2 / num_steps * np.abs(fft.fft(d_complex_incs_deg.real))\n",
    "d_fft = d_fft[:N//2]\n",
    "\n",
    "f1_num = d_freqs[0]\n",
    "f2_num = d_freqs[1]\n",
    "print('Initial guesses for f=g/2pi:')\n",
    "print(f1_num, f2_num)\n",
    "freqs = fft.fftfreq(num_steps, tstep)[:N//2]\n",
    "# index of max frequency in freqs array\n",
    "f1_ind = np.squeeze(np.where(freqs == f1_num))\n",
    "f2_ind = np.squeeze(np.where(freqs == f2_num))\n",
    "\n",
    "# mode_amp = np.array([b_fft[max_freq], c_fft[max_freq]])\n",
    "# mode_amp = mode_amp / np.linalg.norm(mode_amp)\n",
    "# print(f'Mode amp: {mode_amp}')\n",
    "\n",
    "# plot FTs\n",
    "fig = plt.figure(figsize=(10,6))\n",
    "fig.patch.set_facecolor('white')\n",
    "\n",
    "plt.plot(freqs, b_fft, label='Planet B')\n",
    "plt.plot(freqs, c_fft, label='Planet C')\n",
    "plt.plot(freqs, d_fft, label='Planet D')\n",
    "\n",
    "plt.xlabel('Frequency (years$^{-1}$)')\n",
    "plt.xlim(0, 1e-5)\n",
    "plt.ylabel('Amplitude (deg)')\n",
    "plt.title(\"Fourier Transforms of Planet B, C, and D's Re($\\mathcal{I}$) Series\")\n",
    "plt.legend()\n",
    "\n",
    "# fig_path = \"Figures/BCD_FTs.png\"\n",
    "# plt.savefig(fig_path, bbox_inches='tight')\n",
    "plt.show()"
   ]
  },
  {
   "cell_type": "markdown",
   "id": "f52518fd",
   "metadata": {},
   "source": [
    "## `curve_fit` with FFT as initial guess"
   ]
  },
  {
   "cell_type": "code",
   "execution_count": null,
   "id": "dce69ab0",
   "metadata": {
    "code_folding": [
     0,
     8
    ]
   },
   "outputs": [],
   "source": [
    "def cos_func(x, a, b, c):\n",
    "    '''\n",
    "    Returns a cosine function. \n",
    "    \n",
    "    '''\n",
    "    \n",
    "    return a * np.cos(b * x + c)\n",
    "\n",
    "def test_func(x, a1, b1, c1, a2, b2, c2):\n",
    "    '''\n",
    "    Returns a sum of 2 cosine functions. \n",
    "    \n",
    "    '''\n",
    "    \n",
    "    return cos_func(x, a1, b1, c1) + cos_func(x, a2, b2, c2)"
   ]
  },
  {
   "cell_type": "code",
   "execution_count": null,
   "id": "966ea116",
   "metadata": {
    "code_folding": []
   },
   "outputs": [],
   "source": [
    "# Given our FFT results as an initial guess, use curve_fit to infer the parameters\n",
    "# of Planet B's complex inclination series (real component).\n",
    "\n",
    "guess_b = [b_fft[g1_ind], (2*np.pi)*f1_num, 0, \\\n",
    "          b_fft[g2_ind], (2*np.pi)*f2_num, 0]\n",
    "params, params_covariance = optimize.curve_fit(test_func, times, b_series, \\\n",
    "                                               p0=guess_b)\n",
    "a1_B, b1_B, c1_B, a2_B, b2_B, c2_B = params\n",
    "\n",
    "print('Fitted params (B):')\n",
    "print(params)\n",
    "\n",
    "# Fit parameters for Planet C.\n",
    "guess_c = [c_fft[g1_ind], (2*np.pi)*f1_num, 0, \\\n",
    "          c_fft[g2_ind], (2*np.pi)*f2_num, 0]\n",
    "params, params_covariance = optimize.curve_fit(test_func, times, c_series, \\\n",
    "                                               p0=guess_c)\n",
    "a1_C, b1_C, c1_C, a2_C, b2_C, c2_C = params\n",
    "\n",
    "print('Fitted params (C):')\n",
    "print(params)\n",
    "\n",
    "# Fit parameters for Planet D.\n",
    "guess_d = [d_fft[g1_ind], (2*np.pi)*f1_num, 0, \\\n",
    "          d_fft[g2_ind], (2*np.pi)*f2_num, 0]\n",
    "params, params_covariance = optimize.curve_fit(test_func, times, d_series, \\\n",
    "                                               p0=guess_d)\n",
    "a1_D, b1_D, c1_D, a2_D, b2_D, c2_D = params\n",
    "\n",
    "print('Fitted params (D):')\n",
    "print(params)"
   ]
  },
  {
   "cell_type": "code",
   "execution_count": null,
   "id": "0a33c848",
   "metadata": {
    "code_folding": []
   },
   "outputs": [],
   "source": [
    "## Plot data vs. curve_fit results.\n",
    "fig, (ax1, ax2, ax3) = plt.subplots(3, 1, sharex=True, figsize=(12,13))\n",
    "fig.patch.set_facecolor('white')\n",
    "\n",
    "# Planet B\n",
    "fitted_b_series = test_func(times, a1_B, b1_B, c1_B, \\\n",
    "                            a2_B, b2_B, c2_B)\n",
    "ax1.plot(times, b_series, lw='3.5', label='Data')\n",
    "ax1.plot(times, fitted_b_series, '--', lw='3.5', label='Fit')\n",
    "ax1.set_ylabel('Amplitude (deg)')\n",
    "ax1.set_title(\"Planet B's Re($\\mathcal{I}$): Simulation Data vs. Final Fit\")\n",
    "ax1.legend(loc='upper right')\n",
    "\n",
    "# Planet C\n",
    "fitted_c_series = test_func(times, a1_C, b1_C, c1_C, \\\n",
    "                            a2_C, b2_C, c2_C)\n",
    "ax2.plot(times, c_series, lw='3.5', label='Data')\n",
    "ax2.plot(times, fitted_c_series, '--', lw='3.5', label='Fit')\n",
    "#ax2.set_xlabel('Time (yr)')\n",
    "ax2.set_ylabel('Amplitude (deg)')\n",
    "ax2.set_title(\"Planet C's real($\\mathcal{I}$): Simulation Data vs. Final Fit\")\n",
    "ax2.legend(loc='upper right')\n",
    "\n",
    "# Planet D\n",
    "fitted_d_series = test_func(times, a1_D, b1_D, c1_D, \\\n",
    "                            a2_D, b2_D, c2_D)\n",
    "ax3.plot(times, d_series, lw='3.5', label='Data')\n",
    "ax3.plot(times, fitted_d_series, '--', lw='3.5', label='Fit')\n",
    "ax3.set_xlabel('Time (yr)')\n",
    "ax3.set_ylabel('Amplitude (deg)')\n",
    "ax3.set_title(\"Planet D's real($\\mathcal{I}$): Simulation Data vs. Final Fit\")\n",
    "ax3.legend(loc='upper right')\n",
    "\n",
    "# fig_path = \"Figures/BCD_data_vs_curvefit\"\n",
    "# plt.savefig(fig_path, bbox_inches='tight')\n",
    "plt.show()"
   ]
  },
  {
   "cell_type": "markdown",
   "id": "f7bd6b26",
   "metadata": {},
   "source": [
    "## `symfit` with FFT as initial guess"
   ]
  },
  {
   "cell_type": "markdown",
   "id": "810cd3af",
   "metadata": {},
   "source": [
    "This is an alternative to `curve_fit` that allows us to use the same frequencies in each of the fitted curves."
   ]
  },
  {
   "cell_type": "code",
   "execution_count": null,
   "id": "172a6355",
   "metadata": {},
   "outputs": [],
   "source": [
    "from symfit import variables, parameters, Model, Fit, cos\n",
    "\n",
    "t, b_inc, c_inc, d_inc = variables('t, b_inc, c_inc, d_inc')\n",
    "g1, g2, A11, A21, A31, A12, A22, A32, phi_b1, phi_b2, phi_c1, phi_c2, phi_d1, phi_d2 = \\\n",
    "    parameters('g1, g2, A11, A21, A31, A12, A22, A32, phi_b1, phi_b2, phi_c1, phi_c2, phi_d1, phi_d2')\n",
    "# set initial guesses for the parameters\n",
    "g1.value = 2*np.pi*f1_num\n",
    "g2.value = 2*np.pi*f2_num\n",
    "\n",
    "A11.value = b_fft[f1_ind]\n",
    "A21.value = c_fft[f1_ind]\n",
    "A31.value = d_fft[f1_ind]\n",
    "A12.value = b_fft[f2_ind]\n",
    "A22.value = c_fft[f2_ind]\n",
    "A32.value = d_fft[f2_ind]\n",
    "\n",
    "phi_b1.value = 0\n",
    "phi_b2.value = 0\n",
    "phi_c1.value = 0\n",
    "phi_c2.value = 0\n",
    "phi_d1.value = 0\n",
    "phi_d2.value = 0\n",
    "\n",
    "# model each inclination series as a sum of sinusoids\n",
    "model = Model({\n",
    "    b_inc: A11*cos(g1*t + phi_b1) + A12*cos(g2*t + phi_b2),\n",
    "    c_inc: A21*cos(g1*t + phi_c1) + A22*cos(g2*t + phi_c2),\n",
    "    d_inc: A31*cos(g1*t + phi_d1) + A32*cos(g2*t + phi_d2),\n",
    "})\n",
    "\n",
    "# speed up symfit by sampling the time series at lower resolution\n",
    "sample_interval = 1e4\n",
    "inds_sampled = np.arange(0, 2e6, sample_interval, dtype=int)\n",
    "\n",
    "fit = Fit(model, t=times[inds_sampled], b_inc=b_series[inds_sampled], \\\n",
    "          c_inc=c_series[inds_sampled], d_inc=d_series[inds_sampled])\n",
    "fit_result = fit.execute()\n",
    "params = fit_result.params\n",
    "print(params)"
   ]
  },
  {
   "cell_type": "code",
   "execution_count": null,
   "id": "6c5b7fab",
   "metadata": {},
   "outputs": [],
   "source": [
    "## Plot data vs. symfit results.\n",
    "fig, (ax1, ax2, ax3) = plt.subplots(3, 1, sharex=True, figsize=(12,14))\n",
    "fig.patch.set_facecolor('white')\n",
    "\n",
    "# Planet B\n",
    "b_series_fit = test_func(times, params['A11'], params['g1'], params['phi_b1'],\n",
    "                                params['A12'], params['g2'], params['phi_b2'])\n",
    "\n",
    "ax1.plot(times, b_series, lw='3.5', label='Data')\n",
    "ax1.plot(times, b_series_fit, '--', lw='3.5', label='Fit')\n",
    "#ax1.set_xlabel('Time (yr)')\n",
    "ax1.set_ylabel('Amplitude (deg)')\n",
    "ax1.set_title(\"Planet B's Re($\\mathcal{I}$): Simulation Data vs. Final Fit\")\n",
    "ax1.legend(loc='upper right')\n",
    "\n",
    "# Planet C\n",
    "c_series_fit = test_func(times, params['A21'], params['g1'], params['phi_c1'],\n",
    "                                params['A22'], params['g2'], params['phi_c2'])\n",
    "\n",
    "ax2.plot(times, c_series, lw='3.5', label='Data')\n",
    "ax2.plot(times, c_series_fit, '--', lw='3.5', label='Fit')\n",
    "#ax2.set_xlabel('Time (yr)')\n",
    "ax2.set_ylabel('Amplitude (deg)')\n",
    "ax2.set_title(\"Planet C's real($\\mathcal{I}$): Simulation Data vs. Final Fit\")\n",
    "ax2.legend(loc='upper right')\n",
    "\n",
    "# Planet D\n",
    "d_series_fit = test_func(times, params['A31'], params['g1'], params['phi_d1'],\n",
    "                                params['A32'], params['g2'], params['phi_d2'])\n",
    "\n",
    "ax3.plot(times, d_series, lw='3.5', label='Data')\n",
    "ax3.plot(times, d_series_fit, '--', lw='3.5', label='Fit')\n",
    "ax3.set_xlabel('Time (yr)')\n",
    "ax3.set_ylabel('Amplitude (deg)')\n",
    "ax3.set_title(\"Planet D's real($\\mathcal{I}$): Simulation Data vs. Final Fit\")\n",
    "ax3.legend(loc='upper right')\n",
    "\n",
    "# fig_path = \"Figures/BCD_data_vs_symfit\"\n",
    "# plt.savefig(fig_path, bbox_inches='tight')\n",
    "plt.show()"
   ]
  },
  {
   "cell_type": "code",
   "execution_count": null,
   "id": "56fbeac6",
   "metadata": {},
   "outputs": [],
   "source": []
  }
 ],
 "metadata": {
  "kernelspec": {
   "display_name": "Python 3",
   "language": "python",
   "name": "python3"
  },
  "language_info": {
   "codemirror_mode": {
    "name": "ipython",
    "version": 3
   },
   "file_extension": ".py",
   "mimetype": "text/x-python",
   "name": "python",
   "nbconvert_exporter": "python",
   "pygments_lexer": "ipython3",
   "version": "3.9.5"
  }
 },
 "nbformat": 4,
 "nbformat_minor": 5
}
