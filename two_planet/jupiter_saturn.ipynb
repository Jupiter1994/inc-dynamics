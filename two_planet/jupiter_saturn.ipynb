{
 "cells": [
  {
   "cell_type": "code",
   "execution_count": 1,
   "id": "c8469798",
   "metadata": {
    "code_folding": []
   },
   "outputs": [],
   "source": [
    "# import packages\n",
    "import numpy as np\n",
    "\n",
    "import matplotlib.pyplot as plt\n",
    "## set global font size\n",
    "plt.rcParams.update({'font.size':16})\n",
    "\n",
    "import time\n",
    "import lzma, pickle\n",
    "import scipy.fft as fft\n",
    "import scipy.integrate as integ\n",
    "import scipy.interpolate as interp\n",
    "import scipy.optimize as optimize\n",
    "\n",
    "import astropy.units as u\n",
    "from astropy import constants as const\n",
    "\n",
    "import rebound"
   ]
  },
  {
   "cell_type": "markdown",
   "id": "64798abe",
   "metadata": {},
   "source": [
    "Goal: recreate Figure 7.1(b) in Murray & Dermott, and recover the mode frequencies and amplitudes."
   ]
  },
  {
   "cell_type": "code",
   "execution_count": 2,
   "id": "7b633467",
   "metadata": {
    "scrolled": false
   },
   "outputs": [
    {
     "name": "stdout",
     "output_type": "stream",
     "text": [
      "Searching NASA Horizons for 'Sun'... \n",
      "Found: Sun (10) \n",
      "Searching NASA Horizons for 'Jupiter'... \n",
      "Found: Jupiter Barycenter (5) (chosen from query 'Jupiter')\n",
      "Searching NASA Horizons for 'Saturn'... \n",
      "Found: Saturn Barycenter (6) (chosen from query 'Saturn')\n",
      "Jupiter initial (relative) inc = 0.36 deg\n",
      "Saturn initial (relative) inc = 0.89 deg\n"
     ]
    }
   ],
   "source": [
    "sim = rebound.Simulation()\n",
    "sim.units = ('yr', 'AU', 'Msun')\n",
    "date = '1983-01-01 00:00:00'\n",
    "\n",
    "sim.add(['Sun', 'Jupiter', 'Saturn'], date=date)\n",
    "\n",
    "# Rotate the axes so that z points along the total angular momentum.\n",
    "rot = rebound.Rotation.to_new_axes(newz=sim.angular_momentum())\n",
    "sim.rotate(rot)\n",
    "\n",
    "# save initial inclinations (in deg)\n",
    "j_inc_0 = sim.particles[1].inc * (180/np.pi)\n",
    "s_inc_0 = sim.particles[2].inc * (180/np.pi)\n",
    "inc_0 = np.asarray((j_inc_0, s_inc_0))\n",
    "\n",
    "print(\"Jupiter initial (relative) inc = {:.2f} deg\".format(j_inc_0))\n",
    "print(\"Saturn initial (relative) inc = {:.2f} deg\".format(s_inc_0))"
   ]
  },
  {
   "cell_type": "markdown",
   "id": "99a2b092",
   "metadata": {},
   "source": [
    "# Analytical derivation of mode freqs and amps"
   ]
  },
  {
   "cell_type": "markdown",
   "id": "e46dd121",
   "metadata": {},
   "source": [
    "I check that the mode frequency formula (Su & Lai 2022, Equation A2) matches our simulation's frequencies."
   ]
  },
  {
   "cell_type": "code",
   "execution_count": 3,
   "id": "66c5ef7a",
   "metadata": {
    "code_folding": [
     0,
     19,
     34
    ]
   },
   "outputs": [],
   "source": [
    "def laplace_coeff_integrand(x, alpha):\n",
    "    '''\n",
    "    \n",
    "    This function represents the integrand of the Laplace coefficient formula\n",
    "    (Eq. 6.67 of Murray & Dermott). Following Eq. A3 in Su & Lai 2022, we\n",
    "    use j=1 and s=3/2. The result is used in the laplace_coeff function.\n",
    "    \n",
    "    PARAMETERS\n",
    "    ----------\n",
    "    x: argument of the function\n",
    "    alpha: variable that isn't integrated over\n",
    "    \n",
    "    '''\n",
    "    \n",
    "    num = np.cos(x) # numerator\n",
    "    denom = (1 - 2 * alpha * np.cos(x) + alpha**2) ** (3/2)\n",
    "    \n",
    "    return num / denom\n",
    "\n",
    "def laplace_coeff(alpha):\n",
    "    '''\n",
    "    \n",
    "    Calculate the Laplace coefficient using Eq. 6.67 of Murray & Dermott.\n",
    "    (This is the exact form of Eq. A3 in Su & Lai 2022.) The result is used \n",
    "    in mode_freq (and is denoted as \"b\").\n",
    "    \n",
    "    PARAMETERS\n",
    "    ----------\n",
    "    alpha: input to the formula.\n",
    "    \n",
    "    '''\n",
    "    \n",
    "    return 1 / np.pi * integ.quad(laplace_coeff_integrand, 0, 2*np.pi, args=(alpha))[0]\n",
    "    \n",
    "def mode_freq(a_j, a_k, m_k, M_star):\n",
    "    \n",
    "    '''\n",
    "    \n",
    "    Calculate the precession rate (w_jk) of the j-th planet \n",
    "    induced by the k-th planet.\n",
    "    \n",
    "    PARAMETERS\n",
    "    ----------\n",
    "    a_j, a_k: semimajor axes of planets j and k, respectively; assumes that\n",
    "    parameters are provided with units (e.g., u.au or u.m)\n",
    "    m_k, M_star: masses of planet k and the central star, respectively; assumes\n",
    "    that parameters are provided with units (e.g., u.kg or u.M_sun)\n",
    "    \n",
    "    '''\n",
    "    # np.min, max don't work with astropy quantities\n",
    "    a_min, a_max = a_j, a_k\n",
    "    if (a_k < a_j):\n",
    "        a_min = a_k\n",
    "        a_max = a_j\n",
    "        \n",
    "    n_j = np.sqrt(const.G * M_star / (a_j**3))\n",
    "    alpha = a_min / a_max\n",
    "    b = laplace_coeff(alpha)\n",
    "    \n",
    "    return m_k / (4 * M_star) * \\\n",
    "            (a_j * a_min) / (a_max**2) * \\\n",
    "            n_j * b"
   ]
  },
  {
   "cell_type": "code",
   "execution_count": 4,
   "id": "832ecfbb",
   "metadata": {
    "code_folding": [],
    "scrolled": true
   },
   "outputs": [
    {
     "name": "stdout",
     "output_type": "stream",
     "text": [
      "Period: [51658.853] years\n",
      "Non-zero mode frequencies: [-0.00012163]\n",
      "Corresponding mode eigenvectors: [-0.37628948  0.92650215]\n"
     ]
    }
   ],
   "source": [
    "# my original values\n",
    "a_jup = 5.2038 * u.au\n",
    "a_sat = 9.5826 * u.au\n",
    "m_jup = 0.000954588 * u.M_sun\n",
    "m_sat = 0.0002857 * u.M_sun\n",
    "M_sun = 1. * u.M_sun\n",
    "\n",
    "# Yubo's values\n",
    "# a_jup = 5.202 * u.au\n",
    "# a_sat = 9.537 * u.au\n",
    "# m_jup = 0.000954 * u.M_sun   \n",
    "# m_sat = 0.000286 * u.M_sun    \n",
    "# M_sun = 1. * u.M_sun\n",
    "\n",
    "# calculate w_jk values in yr^-1 (but without the unit)\n",
    "w_js = mode_freq(a_jup, a_sat, m_sat, M_sun).to(u.yr**-1).value\n",
    "w_sj = mode_freq(a_sat, a_jup, m_jup, M_sun).to(u.yr**-1).value\n",
    "\n",
    "mat = np.array([\n",
    "    [-w_js, w_js],\n",
    "    [w_sj, -w_sj]\n",
    "])\n",
    "\n",
    "eigs, eigvs = np.linalg.eig(mat)\n",
    "prec_freq = eigs[np.where(np.abs(eigs) > 1e-10)]\n",
    "prec_eigv = eigvs[:, np.where(np.abs(eigs) > 1e-10)]\n",
    "prec_eigv = np.squeeze(prec_eigv).T # reshape to (2,), ie each row is an eigv\n",
    "zero_mode_ind = np.where(np.abs(eigs) < 1e-10)[0] # index of mode w/ frequency=0\n",
    "\n",
    "# Note: for 2 planets, prec_freq = -(w_js + w_sj)\n",
    "print(f'Period: {np.round(2 * np.pi / (-prec_freq), 3)} years')\n",
    "print(f'Non-zero mode frequencies: {prec_freq}')\n",
    "print(f'Corresponding mode eigenvectors: {prec_eigv}')"
   ]
  },
  {
   "cell_type": "code",
   "execution_count": 5,
   "id": "fbbcce76",
   "metadata": {},
   "outputs": [
    {
     "data": {
      "text/plain": [
       "array([[ 0.70710678, -0.37628948],\n",
       "       [ 0.70710678,  0.92650215]])"
      ]
     },
     "execution_count": 5,
     "metadata": {},
     "output_type": "execute_result"
    }
   ],
   "source": [
    "eigvs"
   ]
  },
  {
   "cell_type": "code",
   "execution_count": 6,
   "id": "813a36fc",
   "metadata": {
    "scrolled": true
   },
   "outputs": [
    {
     "name": "stdout",
     "output_type": "stream",
     "text": [
      "Matrix \"divided\" by eigenvector: [-0.00012163 -0.00012163]\n",
      "Eigenvalues: [ 0.         -0.00012163]\n"
     ]
    }
   ],
   "source": [
    "# check that eigenvalues and eigenvectors match\n",
    "print(f\"Matrix \\\"divided\\\" by eigenvector: {np.matmul(mat, np.squeeze(prec_eigv)) / prec_eigv}\")\n",
    "print(f'Eigenvalues: {eigs}')"
   ]
  },
  {
   "cell_type": "markdown",
   "id": "64aa09dc",
   "metadata": {},
   "source": [
    "## Mode amplitudes "
   ]
  },
  {
   "cell_type": "markdown",
   "id": "3947a21b",
   "metadata": {},
   "source": [
    "Calculate mode amplitudes given the initial inclination vector $\\vec{I}_0$ (which has $n$ entries) and the eigenvectors. \n",
    "\n",
    "Let $n$ be the number of planets. The eigenvalue problem can be written as:\n",
    "\n",
    "$$ \\frac{d\\vec{I}}{dt} = \\sum_{i=1}^{n-1} g_i \\left(\\vec{I}_0 \\cdot \\frac{\\vec{v}_i}{|\\vec{v}_i|}\\right)\\vec{v}_i = \\sum_{i=1}^{n-1} g_i \\left(\\vec{I}_0 \\cdot \\vec{v}_i\\right)\\vec{v}_i \\equiv \\sum_{i=1}^{n-1} g_i \\vec{A}_i.$$\n",
    "\n",
    "The second-to-last step comes from the fact that the eigenvectors are normalized, so $|\\vec{v}_i| = 1$. The goal is to find the $n-1$ mode amplitudes, each of which is defined as $\\vec{A}_i = \\left(\\vec{I}_0 \\cdot \\vec{v}_i\\right)\\vec{v}_i$.\n",
    "\n",
    "To get the inclination variation for a given planet $n$, we take the $n$th component of the above equation:\n",
    "\n",
    "$$ \\frac{dI_n}{dt} = \\sum_{i=1}^{n-1} g_i \\left(I_{0, n} v_{i, n}\\right)v_{i,n} \\equiv \\sum_{i=1}^{n-1} g_i A_{i,n}.$$\n",
    "\n"
   ]
  },
  {
   "cell_type": "code",
   "execution_count": 15,
   "id": "0a9e1f93",
   "metadata": {
    "code_folding": []
   },
   "outputs": [],
   "source": [
    "def get_mode_amps(complex_inc_0, eigvs, zero_mode_ind):\n",
    "    '''\n",
    "    Given the initial inclination vector complex_inc_0 and the set of \n",
    "    eigenvectors (eigvs) for a system, compute the mode amplitudes \n",
    "    (which are the projections of inc_0 onto the eigenvectors). NOTE: In the below\n",
    "    calculation, the eigenvector with eigenvalue 0 is set to the zero vector.\n",
    "    (The index of this eigenvector is given by zero_mode_ind.)\n",
    "    \n",
    "    Let n be the number of planets. inc_0 has shape (n,), and eigvs has shape\n",
    "    (n, n), where the columns (i.e. eigvs[:,i]) are the eigenvectors. The output \n",
    "    will have shape (n, n), and the ith column corresponds to mode amplitude i.\n",
    "    (The column at A_vecs[:,zero_mode_ind] will be the zero vector.)\n",
    "    \n",
    "    \n",
    "    '''\n",
    "    \n",
    "    n = len(complex_inc_0)\n",
    "    complex_inc_0 = np.expand_dims(complex_inc_0, axis=1) # change shape to (n, 1)\n",
    "    eigvs[:,zero_mode_ind] = np.zeros((n, 1))\n",
    "    \n",
    "    scalars = np.matmul(np.conj(complex_inc_0.T), eigvs) # complex inner product \n",
    "    diag_mat = np.zeros((n,n), dtype=complex)\n",
    "    np.fill_diagonal(diag_mat, scalars)\n",
    "    A_vecs = 1j * np.matmul(eigvs, diag_mat)\n",
    "    \n",
    "    print(f'inc_0.T: {inc_0}')\n",
    "    print(f'scalars: {scalars}')\n",
    "    print(f'diag_mat: {diag_mat}')\n",
    "    \n",
    "    return A_vecs"
   ]
  },
  {
   "cell_type": "code",
   "execution_count": 12,
   "id": "3d6bac1b",
   "metadata": {},
   "outputs": [
    {
     "data": {
      "text/plain": [
       "array([[ 0.        , -0.37628948],\n",
       "       [ 0.        ,  0.92650215]])"
      ]
     },
     "execution_count": 12,
     "metadata": {},
     "output_type": "execute_result"
    }
   ],
   "source": [
    "eigvs"
   ]
  },
  {
   "cell_type": "code",
   "execution_count": 18,
   "id": "3f059239",
   "metadata": {
    "scrolled": false
   },
   "outputs": [
    {
     "name": "stdout",
     "output_type": "stream",
     "text": [
      "inc_0.T: [0.36104365 0.89021439]\n",
      "scalars: [[0.        +0.j         0.89523226-0.34841523j]]\n",
      "diag_mat: [[0.        +0.j         0.        +0.j        ]\n",
      " [0.        +0.j         0.89523226-0.34841523j]]\n",
      "Mode amplitudes:\n",
      "[[ 0.        +0.j         -0.13110499-0.33686648j]\n",
      " [ 0.        +0.j          0.32280746+0.82943461j]]\n",
      "Magnitudes of mode amplitudes:\n",
      "[[0.         0.36147966]\n",
      " [0.         0.89003731]]\n"
     ]
    }
   ],
   "source": [
    "# initial values for complex inc\n",
    "j_complex_inc0 = sim.particles[1].inc * np.exp(1j * sim.particles[1].Omega)\n",
    "s_complex_inc0 = sim.particles[2].inc * np.exp(1j * sim.particles[2].Omega)\n",
    "j_complex_inc0_deg = j_complex_inc0 * 180 / np.pi\n",
    "s_complex_inc0_deg = s_complex_inc0 * 180 / np.pi\n",
    "\n",
    "complex_inc_0 = np.asarray([j_complex_inc0_deg, s_complex_inc0_deg])\n",
    "mode_amps = get_mode_amps(complex_inc_0, eigvs, zero_mode_ind)\n",
    "print('Mode amplitudes:')\n",
    "print(mode_amps)\n",
    "print('Magnitudes of mode amplitudes:')\n",
    "print(np.abs(mode_amps))"
   ]
  },
  {
   "cell_type": "markdown",
   "id": "83892b19",
   "metadata": {},
   "source": [
    "This is slightly inconsistent with the numerical results, interestingly enough."
   ]
  },
  {
   "cell_type": "markdown",
   "id": "d7980e58",
   "metadata": {},
   "source": [
    "# Numerical derivation of mode freqs and amps"
   ]
  },
  {
   "cell_type": "code",
   "execution_count": null,
   "id": "cbe5b9c0",
   "metadata": {},
   "outputs": [],
   "source": [
    "tstep = 1\n",
    "tmax = 2**18 # end time of integration (yr)\n",
    "num_steps = int(tmax / tstep)"
   ]
  },
  {
   "cell_type": "code",
   "execution_count": null,
   "id": "92f669e5",
   "metadata": {
    "code_folding": [
     9
    ]
   },
   "outputs": [],
   "source": [
    "j_complex_incs_rad = np.asarray([0. + 0.j] * num_steps) # complex inc (radians) of Jupiter over the sim\n",
    "s_complex_incs_rad = np.asarray([0. + 0.j] * num_steps) # complex inc (radians) of Saturn over the sim\n",
    "times = np.linspace(0, tmax, num_steps)\n",
    "\n",
    "start = time.time()\n",
    "for i, t in enumerate(times):\n",
    "    inc_j = sim.particles[1].inc\n",
    "    inc_s = sim.particles[2].inc\n",
    "    \n",
    "    # update complex inclination arrays\n",
    "    Omega_i_j = sim.particles[1].Omega\n",
    "    Omega_i_s = sim.particles[2].Omega\n",
    "    j_complex_incs_rad[i] = inc_j * np.exp(1j * Omega_i_j)\n",
    "    s_complex_incs_rad[i] = inc_s * np.exp(1j * Omega_i_s)\n",
    "    \n",
    "    # move forward by one timestep\n",
    "    sim.integrate(t)\n",
    "\n",
    "print(f'Integration took {np.round(time.time() - start, 1)} seconds')"
   ]
  },
  {
   "cell_type": "code",
   "execution_count": null,
   "id": "81f08ef6",
   "metadata": {},
   "outputs": [],
   "source": [
    "# convert inclinations from radians to degrees\n",
    "j_complex_incs_deg = j_complex_incs_rad * (180 / np.pi)\n",
    "s_complex_incs_deg = s_complex_incs_rad * (180 / np.pi)\n",
    "\n",
    "# save incs\n",
    "file_path = f'j_s_complex_incs_%.1E_yrs.pkl' % tmax\n",
    "with lzma.open(file_path, 'wb') as f:\n",
    "    pickle.dump((times, j_complex_incs_deg, s_complex_incs_deg), f)"
   ]
  },
  {
   "cell_type": "code",
   "execution_count": null,
   "id": "be7346f9",
   "metadata": {
    "scrolled": true
   },
   "outputs": [],
   "source": [
    "j_complex_incs_deg.real[:10]"
   ]
  },
  {
   "cell_type": "code",
   "execution_count": null,
   "id": "e3659792",
   "metadata": {
    "code_folding": [
     2
    ],
    "scrolled": false
   },
   "outputs": [],
   "source": [
    "load_data = True\n",
    "\n",
    "if load_data:\n",
    "    tstep = 1\n",
    "    tmax = 2**18 # end time of integration (yr)\n",
    "    num_steps = int(tmax / tstep)\n",
    "    N = num_steps\n",
    "\n",
    "    file_path = f'j_s_complex_incs_%.1E_yrs.pkl' % tmax\n",
    "\n",
    "    ## open old data files\n",
    "    with lzma.open(file_path, 'rb') as f:\n",
    "        times, j_complex_incs_deg, s_complex_incs_deg = pickle.load(f)\n",
    "\n",
    "fig = plt.figure(figsize=(10,6))\n",
    "fig.patch.set_facecolor('white')\n",
    "\n",
    "plt.plot(times[1:], j_complex_incs_deg.real[1:], label='Jupiter')\n",
    "plt.plot(times[1:], s_complex_incs_deg.real[1:], label='Saturn')\n",
    "\n",
    "plt.xlabel('Time (yr)')\n",
    "plt.ylabel('Inclination (deg)')\n",
    "plt.title('Real component of $\\mathcal{I}$ ($L_{tot}$ frame)')\n",
    "\n",
    "plt.legend(loc='lower right')\n",
    "plt.savefig(\"Figures/JS_inc_series.png\", bbox_inches='tight')\n",
    "plt.show()"
   ]
  },
  {
   "cell_type": "markdown",
   "id": "33e9cbdb",
   "metadata": {},
   "source": [
    "# Decompose into sine waves"
   ]
  },
  {
   "cell_type": "code",
   "execution_count": null,
   "id": "e34f96ac",
   "metadata": {
    "code_folding": [
     0,
     16
    ]
   },
   "outputs": [],
   "source": [
    "def quad_fn(coeffs, x):\n",
    "    '''\n",
    "    Given the coefficients of a quadratic polynomial f(x), return f(x).\n",
    "    \n",
    "    PARAMETERS\n",
    "    ----------\n",
    "    coeffs: 3-element list containing the quadratic's coefficients, \n",
    "    highest power first.\n",
    "    x: the value at which to evaluate f(x).\n",
    "    \n",
    "    '''\n",
    "    \n",
    "    a, b, c = coeffs\n",
    "    \n",
    "    return a * x**2 + b * x + c\n",
    "\n",
    "def FFT_freq_amp(incs, planet_name, quad_interp=False):\n",
    "    '''\n",
    "    Given a time series (incs) representing either component of complex inclination, \n",
    "    return the frequency and amplitude of the time series. Includes an option\n",
    "    to apply quadratic interpolation around the FFT's peak.\n",
    "    \n",
    "    NOTE: This implementation is for 2 planets.\n",
    "    \n",
    "    ARGUMENTS\n",
    "    ---------\n",
    "    incs: time series of either the real or imag component of a complex inclination series\n",
    "    planet_name: string representing planet name (used in plots)\n",
    "    quad_interp: if True, uses quadratic interpolation to improve the result\n",
    "    of low-resolution FFTs; default is False\n",
    "    \n",
    "    '''\n",
    "    \n",
    "    # only look at the positive side of the FFT\n",
    "    yf = np.abs(fft.fft(incs - np.mean(incs))[:N//2])\n",
    "    yf_scaled = 2 / num_steps * np.abs(yf)\n",
    "    xf = fft.fftfreq(num_steps, tstep)[:N//2]\n",
    "    \n",
    "    # plot FFT result\n",
    "    plt.figure(figsize=(10,4))\n",
    "    plt.plot(xf, yf_scaled)\n",
    "    plt.xlim(0, 5e-5)\n",
    "    plt.title('FFT for ' + planet_name)\n",
    "    plt.show()\n",
    "    \n",
    "    # run quadratic interpolation on the FFT\n",
    "    if quad_interp:\n",
    "        x_vals = [xf[np.argmax(yf) - 1], xf[np.argmax(yf)], xf[np.argmax(yf) + 1]]\n",
    "        y_vals = np.abs([yf[np.argmax(yf) - 1], yf[np.argmax(yf)], yf[np.argmax(yf) + 1]])\n",
    "        y_vals_scaled = 2 / num_steps * np.abs(y_vals)\n",
    "\n",
    "        # get coefficients of the interpolated quadratic function\n",
    "        coeffs = np.polyfit(x_vals, y_vals_scaled, deg=2)\n",
    "        a, b, c = coeffs\n",
    "\n",
    "        # get mode freq and amplitude\n",
    "        mode_f = - b / (2*a) # peak of the quadratic function\n",
    "        mode_amp = quad_fn(coeffs, mode_f)\n",
    "\n",
    "        # return period (years) and amplitude\n",
    "        return mode_f, mode_amp\n",
    "\n",
    "    # (result from no quadratic interpolation)\n",
    "    # return freq (years) and amplitude (degrees)\n",
    "    return xf[np.argmax(yf)], yf_scaled[np.argmax(yf)]\n",
    "\n",
    "# first values in data arrays are weird\n",
    "j_series = j_complex_incs_deg.real[1:]\n",
    "s_series = s_complex_incs_deg.real[1:]\n",
    "times = times[1:]\n",
    "\n",
    "use_interp = False\n",
    "j_freq, j_amp = FFT_freq_amp(j_series, 'Jupiter', quad_interp=use_interp)\n",
    "j_period = 1/j_freq # years\n",
    "s_freq, s_amp = FFT_freq_amp(s_series, 'Saturn', quad_interp=use_interp)\n",
    "s_period = 1/s_freq # years\n",
    "\n",
    "if use_interp:\n",
    "    print('WITH QUADRATIC INTERPOLATION:')\n",
    "print(f'Jupiter freq: %0.3e years^-1' % j_freq)\n",
    "print(f'Jupiter period: %0.2f years' % j_period)\n",
    "print(f'Jupiter amplitude: %0.3f deg' % j_amp)\n",
    "print()\n",
    "print(f'Saturn freq: %0.3e years^-1' % s_freq)\n",
    "print(f'Saturn period: %0.2f years' % s_period)\n",
    "print(f'Saturn amplitude: %0.3f deg' % s_amp)"
   ]
  },
  {
   "cell_type": "code",
   "execution_count": null,
   "id": "c7b47284",
   "metadata": {},
   "outputs": [],
   "source": [
    "j_fft = 2 / num_steps * np.abs(fft.fft(j_complex_incs_deg.real))\n",
    "j_fft = j_fft[:N//2]\n",
    "s_fft = 2 / num_steps * np.abs(fft.fft(s_complex_incs_deg.real))\n",
    "s_fft = s_fft[:N//2]\n",
    "\n",
    "max_freq = np.argmax(j_fft)\n",
    "freqs = fft.fftfreq(num_steps, tstep)[:N//2]\n",
    "\n",
    "mode_amp = np.array([j_fft[max_freq], s_fft[max_freq]])\n",
    "mode_amp = mode_amp / np.linalg.norm(mode_amp)\n",
    "print(f'Mode amp: {mode_amp}')\n",
    "\n",
    "# plot FTs\n",
    "fig = plt.figure(figsize=(10,6))\n",
    "fig.patch.set_facecolor('white')\n",
    "\n",
    "plt.plot(freqs, j_fft, label='Jupiter')\n",
    "plt.plot(freqs, s_fft, label='Saturn')\n",
    "\n",
    "plt.xlabel('Frequency (yr$^{-1}$)')\n",
    "plt.xlim(0, 1e-4)\n",
    "plt.ylabel('Amplitude (deg)')\n",
    "\n",
    "plt.title(\"Fourier Transforms of Jupiter and Saturn's Re($\\mathcal{I}$) Series\")\n",
    "plt.legend()\n",
    "\n",
    "fig_path = \"Figures/JS_FTs.png\"\n",
    "plt.savefig(fig_path, bbox_inches='tight')\n",
    "plt.show()"
   ]
  },
  {
   "cell_type": "markdown",
   "id": "9d5803c2",
   "metadata": {},
   "source": [
    "## Apply `symfit`"
   ]
  },
  {
   "cell_type": "code",
   "execution_count": null,
   "id": "a2cb5ed6",
   "metadata": {
    "code_folding": [
     0
    ]
   },
   "outputs": [],
   "source": [
    "def test_func(x, a, b, c):\n",
    "    '''\n",
    "    Returns a sin function a*sin(bx + c).\n",
    "    \n",
    "    '''\n",
    "    \n",
    "    return a * np.sin(b * x + c)"
   ]
  },
  {
   "cell_type": "code",
   "execution_count": null,
   "id": "1fb289d5",
   "metadata": {},
   "outputs": [],
   "source": [
    "from symfit import variables, parameters, Model, Fit, sin\n",
    "\n",
    "t, b_inc, c_inc = variables('t, b_inc, c_inc')\n",
    "g1, A11, A21, phi1, phi2 = parameters('g1, A11, A21, phi1, phi2')\n",
    "# set initial guesses for the parameters\n",
    "g1.value = 2*np.pi*j_freq\n",
    "A11.value = j_amp\n",
    "A21.value = s_amp\n",
    "phi1.value = -np.pi/2\n",
    "phi2.value = np.pi/2\n",
    "\n",
    "# model each inclination series as a sum of sinusoids\n",
    "model = Model({\n",
    "    b_inc: A11 * sin(g1*t + phi1),\n",
    "    c_inc: A21 * sin(g1*t + phi2),\n",
    "})\n",
    "\n",
    "fit = Fit(model, t=times, b_inc=j_series, c_inc=s_series)\n",
    "fit_result = fit.execute()\n",
    "params = fit_result.params\n",
    "print(params)"
   ]
  },
  {
   "cell_type": "code",
   "execution_count": null,
   "id": "012df6bb",
   "metadata": {},
   "outputs": [],
   "source": [
    "## Plot data vs. symfit results.\n",
    "fig, (ax1, ax2) = plt.subplots(2, 1, sharex=True, figsize=(12,9))\n",
    "fig.patch.set_facecolor('white')\n",
    "\n",
    "# Jupiter\n",
    "j_series_fit = test_func(times, params['A11'], params['g1'], params['phi1'])\n",
    "\n",
    "ax1.plot(times, j_series, lw='3.5', label='Data')\n",
    "ax1.plot(times, j_series_fit, '--', lw='3.5', label='Fit')\n",
    "#ax1.set_xlabel('Time (yr)')\n",
    "ax1.set_ylabel('Amplitude (deg)')\n",
    "ax1.set_title(\"Jupiter's Re($\\mathcal{I}$): Simulation Data vs. Final Fit\")\n",
    "ax1.legend(loc='upper right')\n",
    "\n",
    "# Saturn\n",
    "s_series_fit = test_func(times, params['A21'], params['g1'], params['phi2'])\n",
    "\n",
    "ax2.plot(times, s_series, lw='3.5', label='Data')\n",
    "ax2.plot(times, s_series_fit, '--', lw='3.5', label='Fit')\n",
    "ax2.set_xlabel('Time (yr)')\n",
    "ax2.set_ylabel('Amplitude (deg)')\n",
    "ax2.set_title(\"Saturn's real($\\mathcal{I}$): Simulation Data vs. Final Fit\")\n",
    "ax2.legend(loc='upper right')\n",
    "\n",
    "fig_path = \"Figures/JS_data_vs_symfit\"\n",
    "plt.savefig(fig_path, bbox_inches='tight')\n",
    "plt.show()"
   ]
  },
  {
   "cell_type": "markdown",
   "id": "bc37efce",
   "metadata": {},
   "source": [
    "## Apply `curve_fit` (alternative to symfit)"
   ]
  },
  {
   "cell_type": "code",
   "execution_count": null,
   "id": "ec7430d3",
   "metadata": {
    "code_folding": []
   },
   "outputs": [],
   "source": [
    "# Use curve_fit to infer the parameters of Jupiter's complex inclination \n",
    "# series (real component).\n",
    "guess_j = [j_amp, 2*np.pi*j_freq, -np.pi/2]\n",
    "params, params_covariance = optimize.curve_fit(test_func, times, j_series,\n",
    "                                               p0=guess_j)\n",
    "print(f'Jupiter params: {params}')\n",
    "a_j, b_j, c_j = params\n",
    "\n",
    "## Apply curve_fit to Saturn.\n",
    "guess_s = [s_amp, 2*np.pi*s_freq, np.pi/2]\n",
    "params, params_covariance = optimize.curve_fit(test_func, times, s_series,\n",
    "                                               p0=guess_s)\n",
    "print(f'Saturn params: {params}')\n",
    "a_s, b_s, c_s = params"
   ]
  },
  {
   "cell_type": "code",
   "execution_count": null,
   "id": "4db2d0a7",
   "metadata": {},
   "outputs": [],
   "source": [
    "## Plot data vs. curve_fit results.\n",
    "fig, (ax1, ax2) = plt.subplots(2, 1, sharex=True, figsize=(12,9))\n",
    "fig.patch.set_facecolor('white')\n",
    "\n",
    "# Jupiter\n",
    "ax1.plot(times, j_series, label='Data')\n",
    "ax1.plot(times, test_func(times, a_j, b_j, c_j), '--', lw='3', label='Fit')\n",
    "#ax1.set_xlabel('Time (yr)')\n",
    "ax1.set_ylabel('Amplitude (deg)')\n",
    "ax1.set_title(\"Jupiter's Re($\\mathcal{I}$): Simulation Data vs. Final Fit\")\n",
    "ax1.legend(loc='upper right')\n",
    "\n",
    "# Saturn\n",
    "ax2.plot(times, s_series, label='Data')\n",
    "ax2.plot(times, test_func(times, a_s, b_s, c_s), '--', lw='3', label='Fit')\n",
    "ax2.set_xlabel('Time (yr)')\n",
    "ax2.set_ylabel('Amplitude (deg)')\n",
    "ax2.set_title(\"Saturn's real($\\mathcal{I}$): Simulation Data vs. Final Fit\")\n",
    "ax2.legend(loc='upper right')\n",
    "\n",
    "fig_path = \"Figures/JS_data_vs_curvefit\"\n",
    "plt.savefig(fig_path, bbox_inches='tight')\n",
    "plt.show()"
   ]
  },
  {
   "cell_type": "code",
   "execution_count": null,
   "id": "afd8ff67",
   "metadata": {},
   "outputs": [],
   "source": []
  }
 ],
 "metadata": {
  "kernelspec": {
   "display_name": "Python 3",
   "language": "python",
   "name": "python3"
  },
  "language_info": {
   "codemirror_mode": {
    "name": "ipython",
    "version": 3
   },
   "file_extension": ".py",
   "mimetype": "text/x-python",
   "name": "python",
   "nbconvert_exporter": "python",
   "pygments_lexer": "ipython3",
   "version": "3.9.5"
  }
 },
 "nbformat": 4,
 "nbformat_minor": 5
}
