{
 "cells": [
  {
   "cell_type": "markdown",
   "id": "b068582c",
   "metadata": {},
   "source": [
    "# General 2-planet system"
   ]
  },
  {
   "cell_type": "markdown",
   "id": "5f04f2ef",
   "metadata": {},
   "source": [
    "Derive the precession mode frequencies and amplitudes for a generic, closely-packed, 2-planet system. By generic, we mean that each planet has a generic set of initial conditions for (mass, semimajor axis, inclination)."
   ]
  },
  {
   "cell_type": "code",
   "execution_count": null,
   "id": "c8469798",
   "metadata": {
    "code_folding": [
     0
    ]
   },
   "outputs": [],
   "source": [
    "# import packages\n",
    "import numpy as np\n",
    "from numpy.random import default_rng\n",
    "\n",
    "import matplotlib.pyplot as plt\n",
    "plt.rcParams[\"figure.figsize\"] = (10, 7)\n",
    "import time\n",
    "\n",
    "import lzma, pickle\n",
    "import scipy.fft as fft\n",
    "import scipy.integrate as integ\n",
    "import scipy.interpolate as interp\n",
    "import scipy.optimize as optimize\n",
    "\n",
    "import astropy.units as u\n",
    "from astropy import constants as const\n",
    "\n",
    "import rebound"
   ]
  },
  {
   "cell_type": "markdown",
   "id": "0d5a9cac",
   "metadata": {},
   "source": [
    "# Method 1: Simulation"
   ]
  },
  {
   "cell_type": "markdown",
   "id": "7ea07ae9",
   "metadata": {},
   "source": [
    "We initialize the inclinations so that their relative inclinations are modeled with a Rayleigh distribution with scale 1.8. Later, we will reorient the system so that its total angular momentum axis points along the z-axis (thus changing the inclinations to their \"true\" values.)"
   ]
  },
  {
   "cell_type": "code",
   "execution_count": null,
   "id": "d61bdc04",
   "metadata": {},
   "outputs": [],
   "source": [
    "# initialize inclinations (this is *not* in the L_tot frame)\n",
    "rng = default_rng()\n",
    "inc_scale = 1.8 * np.pi / 180 # inclination scale in radians\n",
    "\n",
    "# b_inc_0_rad = rng.rayleigh(scale=inc_scale)\n",
    "# c_inc_0_rad = rng.rayleigh(scale=inc_scale)\n",
    "b_inc_0_rad = 0.039505988\n",
    "c_inc_0_rad = 0.069253338\n",
    "print(f'b_inc_0_rad = %.9f' % b_inc_0_rad)\n",
    "print(f'c_inc_0_rad = %.9f' % c_inc_0_rad)"
   ]
  },
  {
   "cell_type": "markdown",
   "id": "733eca96",
   "metadata": {},
   "source": [
    "We vary the value of $\\alpha \\equiv a_j / a_{j+1}$; i.e., the semimajor axis ratio of adjacent planets. We sweep from $\\alpha = 1/1.3$ through $\\alpha = 1/2$."
   ]
  },
  {
   "cell_type": "code",
   "execution_count": 36,
   "id": "8a40d6e8",
   "metadata": {
    "code_folding": []
   },
   "outputs": [],
   "source": [
    "## Initialize simulation\n",
    "sim = rebound.Simulation()\n",
    "sim.units = ('yr', 'AU', 'Msun')\n",
    "\n",
    "M_e = 3.00273e-6 # Earth mass in Msun\n",
    "star_mass = 1.0\n",
    "\n",
    "# set semimajor axis ratio of adjacent planets\n",
    "alpha = 1 / 1.3\n",
    "\n",
    "# Each planet has 4 provided params: mass (m) in Earth masses, semimajor axis (a), \n",
    "# inclination (inc), and Omega. The three omitted orbital params (e, f, omega) \n",
    "# are left at their default values of 0.\n",
    "b_params = {\n",
    "    \"m\": 4.19 * M_e, \n",
    "    \"a\": 1, \n",
    "    \"inc\": b_inc_0_rad,\n",
    "    \"Omega\": 0\n",
    "}\n",
    "\n",
    "c_params = {\n",
    "    \"m\": 4.16 * M_e, \n",
    "    \"a\": 2,\n",
    "    \"inc\": c_inc_0_rad,\n",
    "    \"Omega\": np.pi\n",
    "}\n",
    "\n",
    "sim.add(m=star_mass)\n",
    "sim.add(m=b_params['m'], a=b_params['a'], inc=b_params['inc'], Omega=b_params['Omega'])\n",
    "sim.add(m=c_params['m'], a=c_params['a'], inc=c_params['inc'], Omega=c_params['Omega'])\n",
    "\n",
    "# Rotate the axes so that z points along the total angular momentum.\n",
    "rot = rebound.Rotation.to_new_axes(newz=sim.angular_momentum())\n",
    "sim.rotate(rot)"
   ]
  },
  {
   "cell_type": "code",
   "execution_count": 37,
   "id": "b9263503",
   "metadata": {
    "scrolled": false
   },
   "outputs": [
    {
     "data": {
      "image/png": "[encoded data removed]",
      "text/plain": [
       "<Figure size 360x576 with 3 Axes>"
      ]
     },
     "metadata": {
      "needs_background": "light"
     },
     "output_type": "display_data"
    }
   ],
   "source": [
    "op_set = rebound.OrbitPlotSet(sim)"
   ]
  },
  {
   "cell_type": "code",
   "execution_count": 38,
   "id": "40e29242",
   "metadata": {},
   "outputs": [
    {
     "data": {
      "text/plain": [
       "(1.88079096131566e-37, -1.6940658945086007e-21, 0.0001897694301643042)"
      ]
     },
     "execution_count": 38,
     "metadata": {},
     "output_type": "execute_result"
    }
   ],
   "source": [
    "Lx, Ly, Lz = sim.angular_momentum()\n",
    "Lx, Ly, Lz"
   ]
  },
  {
   "cell_type": "code",
   "execution_count": 39,
   "id": "2bdce450",
   "metadata": {},
   "outputs": [
    {
     "name": "stdout",
     "output_type": "stream",
     "text": [
      "Planet B's inc (L_tot frame) = 0.063529421\n",
      "Planet C's inc (L_tot frame) = 0.045229905\n"
     ]
    }
   ],
   "source": [
    "## check the particles' inclinations after the frame shift\n",
    "print(f\"Planet B's inc (L_tot frame) = %.9f\" % sim.particles[1].inc)\n",
    "print(f\"Planet C's inc (L_tot frame) = %.9f\" % sim.particles[2].inc)"
   ]
  },
  {
   "cell_type": "markdown",
   "id": "ab24773e",
   "metadata": {},
   "source": [
    "## Run sim"
   ]
  },
  {
   "cell_type": "markdown",
   "id": "955dc784",
   "metadata": {},
   "source": [
    "Per Appendix 1 in Su & Lai (2022), we track complex inclination $\\mathcal{I}_j \\equiv I_j \\text{exp}(i \\Omega_j)$."
   ]
  },
  {
   "cell_type": "code",
   "execution_count": 40,
   "id": "04cf0dd7",
   "metadata": {
    "code_folding": [
     16
    ],
    "scrolled": true
   },
   "outputs": [
    {
     "name": "stdout",
     "output_type": "stream",
     "text": [
      "0.0% done\n",
      "1.0% done\n",
      "2.0% done\n",
      "3.0% done\n",
      "4.0% done\n",
      "5.0% done\n",
      "6.0% done\n",
      "7.0% done\n",
      "8.0% done\n",
      "9.0% done\n",
      "10.0% done\n",
      "11.0% done\n",
      "12.0% done\n",
      "13.0% done\n",
      "14.0% done\n",
      "15.0% done\n",
      "16.0% done\n",
      "17.0% done\n",
      "18.0% done\n",
      "19.0% done\n",
      "20.0% done\n",
      "21.0% done\n",
      "22.0% done\n",
      "23.0% done\n",
      "24.0% done\n",
      "25.0% done\n",
      "26.0% done\n",
      "27.0% done\n",
      "28.0% done\n",
      "29.0% done\n",
      "30.0% done\n",
      "31.0% done\n",
      "32.0% done\n",
      "33.0% done\n",
      "34.0% done\n",
      "35.0% done\n",
      "36.0% done\n",
      "37.0% done\n",
      "38.0% done\n",
      "39.0% done\n",
      "40.0% done\n",
      "41.0% done\n",
      "42.0% done\n",
      "43.0% done\n",
      "44.0% done\n",
      "45.0% done\n",
      "46.0% done\n",
      "47.0% done\n",
      "48.0% done\n",
      "49.0% done\n",
      "50.0% done\n",
      "51.0% done\n",
      "52.0% done\n",
      "53.0% done\n",
      "54.0% done\n",
      "55.0% done\n",
      "56.0% done\n",
      "57.0% done\n",
      "58.0% done\n",
      "59.0% done\n",
      "60.0% done\n",
      "61.0% done\n",
      "62.0% done\n",
      "63.0% done\n",
      "64.0% done\n",
      "65.0% done\n",
      "66.0% done\n",
      "67.0% done\n",
      "68.0% done\n",
      "69.0% done\n",
      "70.0% done\n",
      "71.0% done\n",
      "72.0% done\n",
      "73.0% done\n",
      "74.0% done\n",
      "75.0% done\n",
      "76.0% done\n",
      "77.0% done\n",
      "78.0% done\n",
      "79.0% done\n",
      "80.0% done\n",
      "81.0% done\n",
      "82.0% done\n",
      "83.0% done\n",
      "84.0% done\n",
      "85.0% done\n",
      "86.0% done\n",
      "87.0% done\n",
      "88.0% done\n",
      "89.0% done\n",
      "90.0% done\n",
      "91.0% done\n",
      "92.0% done\n",
      "93.0% done\n",
      "94.0% done\n",
      "95.0% done\n",
      "96.0% done\n",
      "97.0% done\n",
      "98.0% done\n",
      "99.0% done\n",
      "100.0% done\n",
      "Integration took 615.5 seconds\n"
     ]
    }
   ],
   "source": [
    "tstep = 1\n",
    "tmax = 2**20 # end time of integration (yr)\n",
    "num_steps = int(tmax / tstep)\n",
    "N = num_steps\n",
    "N_div_100 = int(N / 100)\n",
    "\n",
    "b_incs_rad = np.asarray([0.] * num_steps) # inclination (radians) of Planet B over the sim\n",
    "c_incs_rad = np.asarray([0.] * num_steps) # inc (radians) of Planet C over the sim\n",
    "\n",
    "b_complex_incs_rad = np.asarray([0. + 0.j] * num_steps) # complex inc (radians) of Planet B over the sim\n",
    "c_complex_incs_rad = np.asarray([0. + 0.j] * num_steps) # complex inc (radians) of Planet C over the sim\n",
    "\n",
    "b_as = np.asarray([0.] * num_steps) # semimajor axis of Planet B over the simulation\n",
    "c_as = np.asarray([0.] * num_steps) # a of Planet C over the simulation\n",
    "\n",
    "b_es = np.asarray([0.] * num_steps) # eccentricity of Planet B over the simulation\n",
    "c_es = np.asarray([0.] * num_steps) # e of Planet C over the simulation\n",
    "\n",
    "times = np.linspace(0, tmax, num_steps)\n",
    "\n",
    "start = time.time()\n",
    "for i, t in enumerate(times):\n",
    "    # update inclination arrays\n",
    "    inc_b = sim.particles[1].inc\n",
    "    inc_c = sim.particles[2].inc\n",
    "    b_incs_rad[i] = inc_b\n",
    "    c_incs_rad[i] = inc_c\n",
    "    \n",
    "    # update complex inclination arrays\n",
    "    Omega_i_b = sim.particles[1].Omega\n",
    "    Omega_i_c = sim.particles[2].Omega\n",
    "    b_complex_incs_rad[i] = inc_b * np.exp(1j * Omega_i_b)\n",
    "    c_complex_incs_rad[i] = inc_c * np.exp(1j * Omega_i_c)\n",
    "    \n",
    "    # update semimajor axis arrays\n",
    "    b_as[i] = sim.particles[1].a\n",
    "    c_as[i] = sim.particles[2].a\n",
    "    \n",
    "    # update eccentricity arrays\n",
    "    b_es[i] = sim.particles[1].e\n",
    "    c_es[i] = sim.particles[2].e\n",
    "    \n",
    "    # move forward by one timestep\n",
    "    sim.integrate(t)\n",
    "    \n",
    "    # prints sim progress as a percentage\n",
    "    if (i % N_div_100 == 0):\n",
    "        print(f'{i/N_div_100}% done')\n",
    "\n",
    "print(f'Integration took {np.round(time.time() - start, 1)} seconds')"
   ]
  },
  {
   "cell_type": "code",
   "execution_count": null,
   "id": "64d2117b",
   "metadata": {},
   "outputs": [],
   "source": [
    "# check that semimajor axes aren't wandering\n",
    "fig = plt.figure(figsize=(10,6))\n",
    "\n",
    "plt.plot(times, b_as, label='Planet B')\n",
    "plt.plot(times, c_as, label='Planet C')\n",
    "\n",
    "plt.xlabel('Time (yr)')\n",
    "plt.ylabel('a (AU)')\n",
    "#plt.ylim(0, .12)\n",
    "\n",
    "plt.title('Semimajor axis (a) vs. time')\n",
    "plt.legend(loc='lower right')\n",
    "plt.show()\n",
    "\n",
    "print(f'Max Planet B eccentricity: {max(b_es)}')\n",
    "print(f'Max Planet C eccentricity: {max(c_es)}')\n",
    "\n",
    "# fig = plt.figure(figsize=(16,3))\n",
    "# plt.plot(times, b_es, lw=1, label='Planet B')\n",
    "# plt.plot(times, c_es, lw=1, label='Planet C')\n",
    "\n",
    "# plt.xlabel('Time (yr)')\n",
    "# plt.ylabel('Eccentricity (e)')\n",
    "\n",
    "# plt.title('Eccentricity (e) vs. time')\n",
    "# plt.legend(loc='lower right')\n",
    "# plt.show()"
   ]
  },
  {
   "cell_type": "code",
   "execution_count": null,
   "id": "39b8b34e",
   "metadata": {},
   "outputs": [],
   "source": [
    "# print system after sim is done\n",
    "# op_set = rebound.OrbitPlotSet(sim)"
   ]
  },
  {
   "cell_type": "code",
   "execution_count": 42,
   "id": "d0f4e9e9",
   "metadata": {},
   "outputs": [],
   "source": [
    "# convert inclinations from radians to degrees\n",
    "b_incs_deg = b_incs_rad * (180 / np.pi)\n",
    "c_incs_deg = c_incs_rad * (180 / np.pi)\n",
    "b_complex_incs_deg = b_complex_incs_rad * (180 / np.pi)\n",
    "c_complex_incs_deg = c_complex_incs_rad * (180 / np.pi)\n",
    "\n",
    "# save data\n",
    "file_path = f'cmplx_incs_alpha=%.3f_t=%.1E_yrs.pkl' % (alpha, tmax)\n",
    "with lzma.open(file_path, 'wb') as f:\n",
    "    pickle.dump((times, b_complex_incs_deg, c_complex_incs_deg), f)"
   ]
  },
  {
   "cell_type": "markdown",
   "id": "34007758",
   "metadata": {},
   "source": [
    "## Load in sim data"
   ]
  },
  {
   "cell_type": "code",
   "execution_count": null,
   "id": "428ddd11",
   "metadata": {
    "code_folding": [
     2
    ]
   },
   "outputs": [],
   "source": [
    "# load in data, if necessary\n",
    "load_data = False\n",
    "if load_data:\n",
    "    tstep = int(1)\n",
    "    tmax = 4e3\n",
    "    num_steps = int(tmax)\n",
    "    N = int(num_steps)\n",
    "\n",
    "    file_path = f'bc_complex_incs_%.1E_yrs.pkl' % tmax\n",
    "\n",
    "    ## open old data files\n",
    "    with lzma.open(file_path, 'rb') as f:\n",
    "        times, b_complex_incs_deg, c_complex_incs_deg = pickle.load(f)"
   ]
  },
  {
   "cell_type": "code",
   "execution_count": null,
   "id": "61705a91",
   "metadata": {},
   "outputs": [],
   "source": [
    "b_incs_deg = np.abs(b_complex_incs_deg)\n",
    "c_incs_deg = np.abs(c_complex_incs_deg)\n",
    "\n",
    "#fig = plt.figure(figsize=(10,6))\n",
    "\n",
    "plt.plot(times, b_incs_deg, linewidth=0.3, label='Planet B')\n",
    "plt.plot(times, c_incs_deg, linewidth=0.3, label='Planet C')\n",
    "\n",
    "plt.xlabel('Time (yr)')\n",
    "plt.ylabel('Inclination (deg)')\n",
    "plt.title('Physical inclination')\n",
    "\n",
    "plt.legend(loc='lower right')\n",
    "plt.show()"
   ]
  },
  {
   "cell_type": "code",
   "execution_count": 44,
   "id": "dce55e92",
   "metadata": {},
   "outputs": [
    {
     "data": {
      "image/png": "[encoded data removed]",
      "text/plain": [
       "<Figure size 720x432 with 1 Axes>"
      ]
     },
     "metadata": {
      "needs_background": "light"
     },
     "output_type": "display_data"
    }
   ],
   "source": [
    "fig = plt.figure(figsize=(10,6))\n",
    "\n",
    "plt.plot(times, b_complex_incs_deg.real, label='Planet B')\n",
    "plt.plot(times, c_complex_incs_deg.real, label='Planet C')\n",
    "\n",
    "plt.xlabel('Time (yr)')\n",
    "plt.ylabel('Inclination (deg)')\n",
    "plt.title('Real component of $\\mathcal{I}$ (L_tot frame)')\n",
    "\n",
    "plt.legend(loc='lower right')\n",
    "plt.show()"
   ]
  },
  {
   "cell_type": "markdown",
   "id": "d2e29a27",
   "metadata": {},
   "source": [
    "### Frame shift"
   ]
  },
  {
   "cell_type": "markdown",
   "id": "6f162c86",
   "metadata": {},
   "source": [
    "**NOTE:** This calculation is irrelevant for this version of `two_planet.ipynb` since we already did the frame shift. I've left it here for the sake of having an intuitive understanding of what the frame shift does."
   ]
  },
  {
   "cell_type": "markdown",
   "id": "bf1a3b53",
   "metadata": {},
   "source": [
    "The goal is to find the frame shift $i_\\text{ctr}$; i.e., the inclination of $\\vec{L}_\\text{tot}$ in our frame.\n",
    "\n",
    "$\\vec{L}_\\text{tot}$ at $t=0$ is conserved. For two planets, this looks like:\n",
    "$$L_\\text{tot} = m_1 v_1 r_1 \\hat{L}_1 + m_2 v_2 r_2 \\hat{L}_2 = m_1 \\frac{2\\pi a_1}{P_1} a_1 \\hat{L}_1 + m_2 \\frac{2\\pi a_2}{P_2} a_2 \\hat{L}_2 = m_1 \\sqrt{GM a_1} \\hat{L}_1 + m_2 \\sqrt{GM a_2} \\hat{L}_2$$\n",
    "where we use Kepler's third law to make the substitution $P = \\frac{2\\pi}{\\sqrt{GM}} a^{3/2}$.\n",
    "\n",
    "Assume that $i_1 > 0$ and its L vector points in the +x direction, while $i_2 > 0$ and its L vector points in the negative x direction.  \n",
    "(**TODO:** fill in more of the math) Taking the x-component of our last equation yields:\n",
    "$$m_1\\sqrt{a_1} \\sin{i_1} - m_2\\sqrt{a_2} \\sin{i_2} = \\frac{L_\\text{tot}}{\\sqrt{GM}} \\sin{i_\\text{ctr}} = \\sqrt{m_1^2 a_1 + m_2^2 a_2 + 2 m_1 m_2 \\sqrt{a_1 a_2} \\cos(i_1 + i_2)} \\sin{i_\\text{ctr}}$$\n",
    "Plugging in values yields something consistent with what we see in the simulation data! (see the below cell)"
   ]
  },
  {
   "cell_type": "code",
   "execution_count": null,
   "id": "fc267dd6",
   "metadata": {},
   "outputs": [],
   "source": [
    "# # plug values into frame shift formula\n",
    "# m1, m2 = b_params['m'], c_params['m']\n",
    "# a1, a2 = b_params['a'], c_params['a']\n",
    "# i1, i2 = b_params['inc'], c_params['inc']\n",
    "\n",
    "# LHS = m1 * np.sqrt(a1) * np.sin(i1) - m2 * np.sqrt(a2) * np.sin(i2)\n",
    "# RHS_coeff_sq = m1**2 * a1 + m2**2 * a2 + 2*m1*m2*np.sqrt(a1*a2)*np.cos(i1 + i2)\n",
    "# RHS_coeff = np.sqrt(RHS_coeff_sq)\n",
    "\n",
    "# sin_i_ctr = LHS / RHS_coeff\n",
    "# i_ctr = np.arcsin(sin_i_ctr)\n",
    "# i_ctr_deg = i_ctr * 180 / np.pi\n",
    "\n",
    "# print(f'i_ctr = %.6f rad = %.6f deg' % (i_ctr, i_ctr_deg))\n",
    "# #print(f'i_ctr = %.4f deg' % sin_i_ctr)"
   ]
  },
  {
   "cell_type": "markdown",
   "id": "5a462a88",
   "metadata": {},
   "source": [
    "## plot complex incs in complex plane"
   ]
  },
  {
   "cell_type": "code",
   "execution_count": null,
   "id": "ff18dbbe",
   "metadata": {},
   "outputs": [],
   "source": [
    "temp_range = slice(0, 500)\n",
    "\n",
    "plt.figure(figsize=(4,4))\n",
    "\n",
    "plt.scatter(b_complex_incs_deg.real[temp_range], \\\n",
    "            b_complex_incs_deg.imag[temp_range], label='b')\n",
    "plt.scatter(c_complex_incs_deg.real[temp_range], \\\n",
    "            c_complex_incs_deg.imag[temp_range], label='c')\n",
    "\n",
    "plt.xlabel('real')\n",
    "plt.ylabel('imag')\n",
    "plt.title('Complex Incs in Complex Plane')\n",
    "plt.legend(loc='upper right')\n",
    "plt.show()"
   ]
  },
  {
   "cell_type": "markdown",
   "id": "fb429a57",
   "metadata": {},
   "source": [
    "## Apply FFT to sim data"
   ]
  },
  {
   "cell_type": "code",
   "execution_count": 47,
   "id": "7aeef38e",
   "metadata": {
    "code_folding": [
     0
    ],
    "scrolled": false
   },
   "outputs": [
    {
     "data": {
      "image/png": "[encoded data removed]",
      "text/plain": [
       "<Figure size 720x288 with 1 Axes>"
      ]
     },
     "metadata": {
      "needs_background": "light"
     },
     "output_type": "display_data"
    },
    {
     "data": {
      "image/png": "[encoded data removed]",
      "text/plain": [
       "<Figure size 720x288 with 1 Axes>"
      ]
     },
     "metadata": {
      "needs_background": "light"
     },
     "output_type": "display_data"
    },
    {
     "name": "stdout",
     "output_type": "stream",
     "text": [
      "Planet B freq: 3.815e-06 years^-1\n",
      "Planet B period: 262144.00 years\n",
      "Planet B amplitude: 2.610 deg\n",
      "\n",
      "Planet C freq: 3.815e-06 years^-1\n",
      "Planet C period: 262144.00 years\n",
      "Planet C amplitude: 1.858 deg\n"
     ]
    }
   ],
   "source": [
    "def quad_fn(coeffs, x):\n",
    "    '''\n",
    "    Given the coefficients of a quadratic polynomial f(x), return f(x).\n",
    "    \n",
    "    PARAMETERS\n",
    "    ----------\n",
    "    coeffs: 3-element list containing the quadratic's coefficients, \n",
    "    highest power first.\n",
    "    x: the value at which to evaluate f(x).\n",
    "    \n",
    "    '''\n",
    "    \n",
    "    a, b, c = coeffs\n",
    "    \n",
    "    return a * x**2 + b * x + c\n",
    "\n",
    "def FFT_freq_amp(incs, planet_name, quad_interp=False):\n",
    "    '''\n",
    "    Given a time series (incs) representing either component of complex inclination, \n",
    "    return the frequency and amplitude of the time series. Includes an option\n",
    "    to apply quadratic interpolation around the FFT's peak.\n",
    "    \n",
    "    NOTE: This implementation is for 2 planets.\n",
    "    \n",
    "    ARGUMENTS\n",
    "    ---------\n",
    "    incs: time series of either the real or imag component of a complex inclination series\n",
    "    planet_name: string representing planet name (used in plots)\n",
    "    quad_interp: if True, uses quadratic interpolation to improve the result\n",
    "    of low-resolution FFTs; default is False\n",
    "    \n",
    "    '''\n",
    "    \n",
    "    # only look at the positive side of the FFT\n",
    "    yf = np.abs(fft.fft(incs - np.mean(incs))[:N//2])\n",
    "    yf_scaled = 2 / num_steps * np.abs(yf)\n",
    "    xf = fft.fftfreq(num_steps, tstep)[:N//2]\n",
    "    \n",
    "    # plot FFT result\n",
    "    plt.figure(figsize=(10,4))\n",
    "    plt.plot(xf, yf_scaled)\n",
    "    plt.xlim(0, 2e-5)\n",
    "    plt.title('FFT for ' + planet_name)\n",
    "    plt.show()\n",
    "    \n",
    "    # run quadratic interpolation on the FFT\n",
    "    if quad_interp:\n",
    "        x_vals = [xf[np.argmax(yf) - 1], xf[np.argmax(yf)], xf[np.argmax(yf) + 1]]\n",
    "        y_vals = np.abs([yf[np.argmax(yf) - 1], yf[np.argmax(yf)], yf[np.argmax(yf) + 1]])\n",
    "        y_vals_scaled = 2 / num_steps * np.abs(y_vals)\n",
    "\n",
    "        # get coefficients of the interpolated quadratic function\n",
    "        coeffs = np.polyfit(x_vals, y_vals_scaled, deg=2)\n",
    "        a, b, c = coeffs\n",
    "\n",
    "        # get mode freq and amplitude\n",
    "        mode_f = - b / (2*a) # peak of the quadratic function\n",
    "        mode_amp = quad_fn(coeffs, mode_f)\n",
    "\n",
    "        # return period (years) and amplitude\n",
    "        return mode_f, mode_amp\n",
    "\n",
    "    # (result from no quadratic interpolation)\n",
    "    # return freq (years) and amplitude (degrees)\n",
    "    return xf[np.argmax(yf)], yf_scaled[np.argmax(yf)]\n",
    "\n",
    "b_series = b_complex_incs_deg.real\n",
    "c_series = c_complex_incs_deg.real\n",
    "\n",
    "use_interp = False\n",
    "b_freq, b_amp = FFT_freq_amp(b_series, 'Planet B', quad_interp=use_interp)\n",
    "b_period = 1/b_freq # years\n",
    "c_freq, c_amp = FFT_freq_amp(c_series, 'Planet C', quad_interp=use_interp)\n",
    "c_period = 1/c_freq # years\n",
    "\n",
    "if use_interp:\n",
    "    print('WITH QUADRATIC INTERPOLATION:')\n",
    "print(f'Planet B freq: %0.3e years^-1' % b_freq)\n",
    "print(f'Planet B period: %0.2f years' % b_period)\n",
    "print(f'Planet B amplitude: %0.3f deg' % b_amp)\n",
    "print()\n",
    "print(f'Planet C freq: %0.3e years^-1' % c_freq)\n",
    "print(f'Planet C period: %0.2f years' % c_period)\n",
    "print(f'Planet C amplitude: %0.3f deg' % c_amp)"
   ]
  },
  {
   "cell_type": "markdown",
   "id": "7ccfe4c9",
   "metadata": {},
   "source": [
    "## Infer mode amplitude vector"
   ]
  },
  {
   "cell_type": "code",
   "execution_count": 48,
   "id": "74f1f1d1",
   "metadata": {},
   "outputs": [
    {
     "name": "stdout",
     "output_type": "stream",
     "text": [
      "Mode amp: [0.81462707 0.57998512]\n"
     ]
    },
    {
     "data": {
      "image/png": "[encoded data removed]",
      "text/plain": [
       "<Figure size 720x432 with 1 Axes>"
      ]
     },
     "metadata": {
      "needs_background": "light"
     },
     "output_type": "display_data"
    }
   ],
   "source": [
    "plt.figure(figsize=(10,6))\n",
    "\n",
    "b_fft = 2 / num_steps * np.abs(fft.fft(b_complex_incs_deg.real))\n",
    "c_fft = 2 / num_steps * np.abs(fft.fft(c_complex_incs_deg.real))\n",
    "max_freq = np.argmax(b_fft)\n",
    "\n",
    "mode_amp = np.array([b_fft[max_freq], c_fft[max_freq]])\n",
    "mode_amp = mode_amp / np.linalg.norm(mode_amp)\n",
    "print(f'Mode amp: {mode_amp}')\n",
    "plt.plot(b_fft[ :20])\n",
    "plt.plot(c_fft[ :20])\n",
    "\n",
    "plt.title(\"Planet B and C's FFTs\")\n",
    "plt.show()"
   ]
  },
  {
   "cell_type": "markdown",
   "id": "39f9b87c",
   "metadata": {},
   "source": [
    "## Sanity check"
   ]
  },
  {
   "cell_type": "markdown",
   "id": "bda21cc2",
   "metadata": {},
   "source": [
    "Do a sanity check with `scipy.optimize`. See [this link](https://scipy-lectures.org/intro/scipy/auto_examples/plot_curve_fit.html)."
   ]
  },
  {
   "cell_type": "code",
   "execution_count": 49,
   "id": "9626a336",
   "metadata": {
    "code_folding": [
     0
    ]
   },
   "outputs": [
    {
     "name": "stdout",
     "output_type": "stream",
     "text": [
      "Planet B params: [-3.64005568e+00  2.11593720e-05  1.57077521e+00 -2.81148339e-05]\n"
     ]
    },
    {
     "data": {
      "image/png": "[encoded data removed]",
      "text/plain": [
       "<Figure size 720x288 with 1 Axes>"
      ]
     },
     "metadata": {
      "needs_background": "light"
     },
     "output_type": "display_data"
    },
    {
     "name": "stdout",
     "output_type": "stream",
     "text": [
      "Planet C params: [ 2.59158848e+00  2.11593720e-05  1.57077521e+00 -2.82132191e-05]\n"
     ]
    },
    {
     "data": {
      "image/png": "[encoded data removed]",
      "text/plain": [
       "<Figure size 720x288 with 1 Axes>"
      ]
     },
     "metadata": {
      "needs_background": "light"
     },
     "output_type": "display_data"
    }
   ],
   "source": [
    "def test_func(x, a, b, c, d):\n",
    "    '''\n",
    "    Returns a sin function a*sin(bx + c) + d.\n",
    "    \n",
    "    '''\n",
    "    \n",
    "    return a * np.sin(b * x + c) + d\n",
    "\n",
    "# Given our FFT results as an initial guess, use curve_fit to infer the parameters\n",
    "# of Planet B's complex inclination series (real component).\n",
    "guess_b = [b_fft[max_freq], (2*np.pi/N) * max_freq, 0, 0]\n",
    "params, params_covariance = optimize.curve_fit(test_func, times, b_series,\n",
    "                                               p0=guess_b)\n",
    "print(f'Planet B params: {params}')\n",
    "a, b, c, d = params\n",
    "\n",
    "plt.figure(figsize=(10,4))\n",
    "plt.plot(times, b_series, color='b', label='Planet B data')\n",
    "plt.plot(times, test_func(times, a, b, c, d), 'g--', lw='3', label='Planet B fit')\n",
    "\n",
    "plt.title('Planet B real($\\mathcal{I}$): data vs. fit')\n",
    "plt.legend(loc='upper right')\n",
    "plt.show()\n",
    "\n",
    "# Same as above with Planet C.\n",
    "guess_c = [c_fft[max_freq], (2*np.pi/N) * max_freq, 0, 0]\n",
    "params, params_covariance = optimize.curve_fit(test_func, times, c_series,\n",
    "                                               p0=guess_c)\n",
    "print(f'Planet C params: {params}')\n",
    "a, b, c, d = params\n",
    "\n",
    "plt.figure(figsize=(10,4))\n",
    "plt.plot(times, c_series, color='b', label='Planet C data')\n",
    "plt.plot(times, test_func(times, a, b, c, d), 'g--', lw='3', label='Planet C fit')\n",
    "\n",
    "plt.title('Planet C real($\\mathcal{I}$): data vs. fit')\n",
    "plt.legend(loc='upper right')\n",
    "plt.show()"
   ]
  },
  {
   "cell_type": "code",
   "execution_count": 53,
   "id": "d0ac7c40",
   "metadata": {},
   "outputs": [
    {
     "name": "stdout",
     "output_type": "stream",
     "text": [
      "Fitted period:\n",
      "296945.7360710958 yrs\n"
     ]
    }
   ],
   "source": [
    "print('Fitted period:')\n",
    "print(f'{2*np.pi / b} yrs')"
   ]
  },
  {
   "cell_type": "markdown",
   "id": "73b9a0b4",
   "metadata": {},
   "source": [
    "# Method 2: Analytic formula"
   ]
  },
  {
   "cell_type": "markdown",
   "id": "867c1e71",
   "metadata": {},
   "source": [
    "I check that the mode frequency formula (Su & Lai 2022, Equation A2) matches our simulation's frequencies."
   ]
  },
  {
   "cell_type": "code",
   "execution_count": 50,
   "id": "7a9eace4",
   "metadata": {
    "code_folding": [
     0,
     19,
     34
    ]
   },
   "outputs": [],
   "source": [
    "def laplace_coeff_integrand(x, alpha):\n",
    "    '''\n",
    "    \n",
    "    This function represents the integrand of the Laplace coefficient formula\n",
    "    (Eq. 6.67 of Murray & Dermott). Following Eq. A3 in Su & Lai 2022, we\n",
    "    use j=1 and s=3/2. The result is used in the laplace_coeff function.\n",
    "    \n",
    "    PARAMETERS\n",
    "    ----------\n",
    "    x: argument of the function\n",
    "    alpha: variable that isn't integrated over\n",
    "    \n",
    "    '''\n",
    "    \n",
    "    num = np.cos(x) # numerator\n",
    "    denom = (1 - 2 * alpha * np.cos(x) + alpha**2) ** (3/2)\n",
    "    \n",
    "    return num / denom\n",
    "\n",
    "def laplace_coeff(alpha):\n",
    "    '''\n",
    "    \n",
    "    Calculate the Laplace coefficient using Eq. 6.67 of Murray & Dermott.\n",
    "    (This is the exact form of Eq. A3 in Su & Lai 2022.) The result is used \n",
    "    in mode_freq (and is denoted as \"b\").\n",
    "    \n",
    "    PARAMETERS\n",
    "    ----------\n",
    "    alpha: input to the formula.\n",
    "    \n",
    "    '''\n",
    "    \n",
    "    return 1 / np.pi * integ.quad(laplace_coeff_integrand, 0, 2*np.pi, args=(alpha))[0]\n",
    "    \n",
    "def mode_freq(a_j, a_k, m_k, M_star):\n",
    "    \n",
    "    '''\n",
    "    \n",
    "    Calculate the precession rate (w_jk) of the j-th planet \n",
    "    induced by the k-th planet.\n",
    "    \n",
    "    PARAMETERS\n",
    "    ----------\n",
    "    a_j, a_k: semimajor axes of planets j and k, respectively; assumes that\n",
    "    parameters are provided with units (e.g., u.au or u.m)\n",
    "    m_k, M_star: masses of planet k and the central star, respectively; assumes\n",
    "    that parameters are provided with units (e.g., u.kg or const.M_sun)\n",
    "    \n",
    "    '''\n",
    "    # np.min, max don't work with astropy quantities\n",
    "    a_min, a_max = a_j, a_k\n",
    "    if (a_k < a_j):\n",
    "        a_min = a_k\n",
    "        a_max = a_j\n",
    "        \n",
    "    n_j = np.sqrt(const.G * M_star / (a_j**3))\n",
    "    alpha = a_min / a_max\n",
    "    b = laplace_coeff(alpha)\n",
    "    \n",
    "    return m_k / (4 * M_star) * \\\n",
    "            (a_j * a_min) / (a_max**2) * \\\n",
    "            n_j * b"
   ]
  },
  {
   "cell_type": "code",
   "execution_count": 51,
   "id": "cdb90157",
   "metadata": {
    "code_folding": [],
    "scrolled": false
   },
   "outputs": [
    {
     "name": "stdout",
     "output_type": "stream",
     "text": [
      "Period: 289906.97 years\n",
      "Non-zero mode frequencies: [-2.16731086e-05]\n",
      "Corresponding mode eigenvectors: [-0.81453387  0.580116  ]\n"
     ]
    }
   ],
   "source": [
    "planet_inds = ['b', 'c']\n",
    "\n",
    "# calculate omega_jk values in yr^-1 (but without the unit)\n",
    "# format: omega_jk = mode_freq(j_params['a']*u.au, k_params['a']*u.au, \\\n",
    "    # k_params['m']*const.M_sun, star_mass*const.M_sun).to(u.yr**-1).value\n",
    "for j in planet_inds:\n",
    "    for k in planet_inds:\n",
    "        if (j == k): continue\n",
    "        exec('omega_' + j + k + ' = ' + \\\n",
    "             'mode_freq(' + j + \"_params['a']*u.au, \" + k + \"_params['a']*u.au, \" + \\\n",
    "             k + \"_params['m']*const.M_sun, star_mass*const.M_sun).to(u.yr**-1).value\")\n",
    "\n",
    "## NOTE: This implementation is for 2 planets.\n",
    "mat = np.array([\n",
    "    [-omega_bc, omega_bc],\n",
    "    [omega_cb, -omega_cb]\n",
    "])\n",
    " \n",
    "eigs, eigvs = np.linalg.eig(mat)\n",
    "prec_freq = eigs[np.where(np.abs(eigs) > 1e-10)]\n",
    "prec_eigv = eigvs[:, np.where(np.abs(eigs) > 1e-10)]\n",
    "prec_eigv = np.squeeze(prec_eigv).T # reshape to (2,), ie each row is an eigv\n",
    "zero_mode_ind = np.where(np.abs(eigs) < 1e-10)[0] # index of mode w/ frequency=0\n",
    "\n",
    "# Note: for 2 planets, prec_freq = -(w_js + w_sj)\n",
    "print(f'Period: %.2f years' % (2 * np.pi / (-prec_freq)))\n",
    "print(f'Non-zero mode frequencies: {prec_freq}')\n",
    "print(f'Corresponding mode eigenvectors: {prec_eigv}')"
   ]
  },
  {
   "cell_type": "code",
   "execution_count": null,
   "id": "c57aa0e6",
   "metadata": {},
   "outputs": [],
   "source": [
    "np.linalg.eig?"
   ]
  },
  {
   "cell_type": "code",
   "execution_count": null,
   "id": "8e754f53",
   "metadata": {},
   "outputs": [],
   "source": [
    "print(eigs)\n",
    "print(eigvs)"
   ]
  },
  {
   "cell_type": "code",
   "execution_count": null,
   "id": "d2d0b98d",
   "metadata": {},
   "outputs": [],
   "source": [
    "# check that eigenvalues and eigenvectors match\n",
    "print(f\"Matrix \\\"divided\\\" by eigenvector: {np.matmul(mat, np.squeeze(prec_eigv)) / prec_eigv}\")\n",
    "print(f'Eigenvalues: {eigs}')"
   ]
  },
  {
   "cell_type": "markdown",
   "id": "293018ad",
   "metadata": {},
   "source": [
    "## Mode amplitudes (attempt 1; doesn't work)"
   ]
  },
  {
   "cell_type": "markdown",
   "id": "61182d9e",
   "metadata": {},
   "source": [
    "**these equations are outdated; see yubo_two_planet.ipynb**\n",
    "\n",
    "Calculate mode amplitudes given the initial complex inclination vector $\\vec{\\mathcal{I}}_0$ (which has $n$ entries) and the eigenvectors. \n",
    "\n",
    "Let $n$ be the number of planets. Reading from Eq. A1 in Su & Lai (2022), the eigenvalue problem can be written as:\n",
    "\n",
    "$$ \\frac{d\\vec{\\mathcal{I}}}{dt} = i\\sum_{k=1}^{n-1} g_k \\left(\\vec{\\mathcal{I}}_0 \\cdot \\frac{\\vec{v}_k}{|\\vec{v}_k|}\\right)\\vec{v}_k = i\\sum_{k=1}^{n-1} g_k \\left(\\vec{\\mathcal{I}}_0 \\cdot \\vec{v}_k\\right)\\vec{v}_k \\equiv \\sum_{k=1}^{n-1} g_k \\vec{A}_k.$$\n",
    "\n",
    "The second-to-last step comes from the fact that the eigenvectors are normalized, so $|\\vec{v}_k| = 1$. The goal is to find the $n-1$ mode amplitudes, each of which is defined as $\\vec{A}_k \\equiv i\\left(\\vec{\\mathcal{I}}_0 \\cdot \\vec{v}_k\\right)\\vec{v}_k$.\n",
    "\n",
    "To get the complex inclination variation for a given planet $n$, we take the $n$th component of the above equation:\n",
    "\n",
    "$$ \\frac{d\\mathcal{I}_n}{dt} = \\sum_{k=1}^{n-1} g_k \\left(\\mathcal{I}_{0, n} v_{k, n}\\right)v_{k,n} \\equiv \\sum_{k=1}^{n-1} g_k A_{k,n}.$$\n",
    "\n"
   ]
  },
  {
   "cell_type": "code",
   "execution_count": 54,
   "id": "d6016d33",
   "metadata": {
    "code_folding": [
     0
    ]
   },
   "outputs": [],
   "source": [
    "def get_mode_amps(complex_inc_0, eigvs, zero_mode_ind):\n",
    "    '''\n",
    "    Given the initial complex inclination vector inc_0 and the set of \n",
    "    eigenvectors (eigvs) for a system, compute the mode amplitudes \n",
    "    (which are the projections of inc_0 onto the eigenvectors). NOTE: In the below\n",
    "    calculation, the eigenvector with eigenvalue 0 is set to the zero vector.\n",
    "    (The index of this eigenvector is given by zero_mode_ind.)\n",
    "    \n",
    "    Let n be the number of planets. inc_0 has shape (n,), and eigvs has shape\n",
    "    (n, n), where the columns (i.e. eigvs[:,i]) are the eigenvectors. The output \n",
    "    will have shape (n, n), and the ith column corresponds to mode amplitude i.\n",
    "    (The column at A_vecs[:,zero_mod_ind] will be the zero vector.)\n",
    "    \n",
    "    \n",
    "    '''\n",
    "    \n",
    "    n = len(complex_inc_0)\n",
    "    complex_inc_0 = np.expand_dims(complex_inc_0, axis=1) # change shape to (n, 1)\n",
    "    eigvs[:,zero_mode_ind] = np.zeros((n, 1))\n",
    "    \n",
    "    scalars = np.matmul(np.conj(complex_inc_0.T), eigvs) # complex inner product \n",
    "    diag_mat = np.zeros((n,n), dtype=complex)\n",
    "    np.fill_diagonal(diag_mat, scalars)\n",
    "    A_vecs = 1j * np.matmul(eigvs, diag_mat)\n",
    "    \n",
    "    print(f'complex_inc_0.T: {complex_inc_0}')\n",
    "    print(f'scalars: {scalars}')\n",
    "    print(f'diag_mat: {diag_mat}')\n",
    "    \n",
    "    return A_vecs"
   ]
  },
  {
   "cell_type": "code",
   "execution_count": 55,
   "id": "31f20756",
   "metadata": {
    "scrolled": false
   },
   "outputs": [
    {
     "name": "stdout",
     "output_type": "stream",
     "text": [
      "complex_inc_0.T: [[-3.63995983+0.00763011j]\n",
      " [ 2.59147705-0.00543238j]]\n",
      "scalars: [[4.46822786+0.0093664j 0.        +0.j       ]]\n",
      "diag_mat: [[4.46822786+0.0093664j 0.        +0.j       ]\n",
      " [0.        +0.j        0.        +0.j       ]]\n",
      "Mode amplitudes:\n",
      "[[ 0.00762925-3.63952294j  0.        +0.j        ]\n",
      " [-0.0054336 +2.59209047j  0.        +0.j        ]]\n",
      "Magnitudes of mode amplitudes:\n",
      "[[3.63953094 0.        ]\n",
      " [2.59209617 0.        ]]\n"
     ]
    }
   ],
   "source": [
    "temp_i = 100\n",
    "inc_0_temp = np.asarray([b_complex_incs_deg[temp_i], c_complex_incs_deg[temp_i]])\n",
    "mode_amps = get_mode_amps(inc_0_temp, eigvs, zero_mode_ind)\n",
    "print('Mode amplitudes:')\n",
    "print(mode_amps)\n",
    "print('Magnitudes of mode amplitudes:')\n",
    "print(np.abs(mode_amps))"
   ]
  },
  {
   "cell_type": "code",
   "execution_count": null,
   "id": "41c1b640",
   "metadata": {},
   "outputs": [],
   "source": []
  }
 ],
 "metadata": {
  "kernelspec": {
   "display_name": "Python 3",
   "language": "python",
   "name": "python3"
  },
  "language_info": {
   "codemirror_mode": {
    "name": "ipython",
    "version": 3
   },
   "file_extension": ".py",
   "mimetype": "text/x-python",
   "name": "python",
   "nbconvert_exporter": "python",
   "pygments_lexer": "ipython3",
   "version": "3.9.5"
  }
 },
 "nbformat": 4,
 "nbformat_minor": 5
}
